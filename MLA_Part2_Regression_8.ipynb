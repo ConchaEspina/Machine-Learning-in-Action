{
 "cells": [
  {
   "cell_type": "markdown",
   "metadata": {},
   "source": [
    "# 8   Predicting numeric values: regression"
   ]
  },
  {
   "cell_type": "markdown",
   "metadata": {},
   "source": [
    "## 8.1   Finding best-fit lines with linear regression"
   ]
  },
  {
   "cell_type": "code",
   "execution_count": 1,
   "metadata": {},
   "outputs": [],
   "source": [
    "from IPython.core.interactiveshell import InteractiveShell \n",
    "InteractiveShell.ast_node_interactivity = 'all'"
   ]
  },
  {
   "cell_type": "markdown",
   "metadata": {},
   "source": [
    "***Listing 8.1*   Standard regression function and data importing functions: `loadDataSet()` & `standRegres()`**"
   ]
  },
  {
   "cell_type": "code",
   "execution_count": 2,
   "metadata": {},
   "outputs": [],
   "source": [
    "from numpy import *"
   ]
  },
  {
   "cell_type": "code",
   "execution_count": 6,
   "metadata": {},
   "outputs": [],
   "source": [
    "def loadDataSet(fileName):\n",
    "    numFeat = len(open(fileName).readline().split('\\t')) - 1\n",
    "    dataMat = []\n",
    "    labelMat = []\n",
    "    fr = open(fileName)\n",
    "    for line in fr.readlines():\n",
    "        lineArr = []\n",
    "        curLine = line.strip().split('\\t')\n",
    "        for i in range(numFeat):\n",
    "            lineArr.append(float(curLine[i]))\n",
    "        dataMat.append(lineArr)\n",
    "        labelMat.append(float(curLine[-1]))\n",
    "    return dataMat, labelMat"
   ]
  },
  {
   "cell_type": "code",
   "execution_count": 7,
   "metadata": {},
   "outputs": [],
   "source": [
    "def standRegres(xArr, yArr):\n",
    "    xMat = mat(xArr)\n",
    "    yMat = mat(yArr).T\n",
    "    xTx = xMat.T * xMat\n",
    "    if linalg.det(xTx) == 0.0:\n",
    "        print(\"This matrix is singular, cannot do inverse\")\n",
    "        return\n",
    "    ws = xTx.I * (xMat.T * yMat)\n",
    "    return ws"
   ]
  },
  {
   "cell_type": "code",
   "execution_count": 8,
   "metadata": {},
   "outputs": [],
   "source": [
    "xArr, yArr = loadDataSet('/Users/duoduo/Desktop/Data/Machine Learning/Machine Learning in Action/MLA_SourceCode/Ch08/ex0.txt')"
   ]
  },
  {
   "cell_type": "code",
   "execution_count": 9,
   "metadata": {},
   "outputs": [
    {
     "data": {
      "text/plain": [
       "[[1.0, 0.067732], [1.0, 0.42781]]"
      ]
     },
     "execution_count": 9,
     "metadata": {},
     "output_type": "execute_result"
    }
   ],
   "source": [
    "xArr[0:2]"
   ]
  },
  {
   "cell_type": "code",
   "execution_count": 10,
   "metadata": {},
   "outputs": [
    {
     "data": {
      "text/plain": [
       "matrix([[3.00774324],\n",
       "        [1.69532264]])"
      ]
     },
     "execution_count": 10,
     "metadata": {},
     "output_type": "execute_result"
    }
   ],
   "source": [
    "ws = standRegres(xArr, yArr)\n",
    "ws"
   ]
  },
  {
   "cell_type": "markdown",
   "metadata": {},
   "source": [
    "Since we assume `X0 = 1`, we'll get `y = ws[0] + ws[1] * X1`."
   ]
  },
  {
   "cell_type": "code",
   "execution_count": 13,
   "metadata": {},
   "outputs": [],
   "source": [
    "xMat = mat(xArr)\n",
    "yMat = mat(yArr)\n",
    "yHat = xMat * ws"
   ]
  },
  {
   "cell_type": "markdown",
   "metadata": {},
   "source": [
    "`yHat` is the predicted `y`."
   ]
  },
  {
   "cell_type": "code",
   "execution_count": 14,
   "metadata": {},
   "outputs": [
    {
     "data": {
      "text/plain": [
       "<matplotlib.collections.PathCollection at 0x7feb268176d0>"
      ]
     },
     "execution_count": 14,
     "metadata": {},
     "output_type": "execute_result"
    },
    {
     "data": {
      "text/plain": [
       "[<matplotlib.lines.Line2D at 0x7feb26817b10>]"
      ]
     },
     "execution_count": 14,
     "metadata": {},
     "output_type": "execute_result"
    },
    {
     "data": {
      "image/png": "[encoded data removed]",
      "text/plain": [
       "<Figure size 432x288 with 1 Axes>"
      ]
     },
     "metadata": {
      "needs_background": "light"
     },
     "output_type": "display_data"
    }
   ],
   "source": [
    "import matplotlib.pyplot as plt\n",
    "fig = plt.figure()\n",
    "ax = fig.add_subplot(111)\n",
    "ax.scatter(xMat[:,1].flatten().A[0], yMat.T[:,0].flatten().A[0])\n",
    "xCopy = xMat.copy()\n",
    "xCopy.sort(0)   # Pyplot will have a problem if the points are out of order, so we first sort the points in ascending order\n",
    "yHat = xCopy * ws\n",
    "ax.plot(xCopy[:,1], yHat)\n",
    "plt.show()"
   ]
  },
  {
   "cell_type": "code",
   "execution_count": 16,
   "metadata": {},
   "outputs": [
    {
     "data": {
      "text/plain": [
       "array([[1.        , 0.98647356],\n",
       "       [0.98647356, 1.        ]])"
      ]
     },
     "execution_count": 16,
     "metadata": {},
     "output_type": "execute_result"
    }
   ],
   "source": [
    "yHat = xMat * ws\n",
    "corrcoef(yHat.T, yMat)"
   ]
  },
  {
   "cell_type": "markdown",
   "metadata": {},
   "source": [
    "## 8.2   Locally weighted linear regression"
   ]
  },
  {
   "cell_type": "markdown",
   "metadata": {},
   "source": [
    "***Listing 8.2*   Locally weighted linear regression function: `lwlr()` & `lwlrTest()`**"
   ]
  },
  {
   "cell_type": "code",
   "execution_count": 17,
   "metadata": {},
   "outputs": [],
   "source": [
    "def lwlr(testPoint, xArr, yArr, k = 1.0):\n",
    "    xMat = mat(xArr)\n",
    "    yMat = mat(yArr).T\n",
    "    m = shape(xMat)[0]\n",
    "    weights = mat(eye(m))   # Create diagonal matrix\n",
    "    for j in range(m):\n",
    "        diffMat = testPoint - xMat[j,:]\n",
    "        weights[j,j] = exp(diffMat*diffMat.T / (-2.0*k**2))   # Populate weights with exponentially decaying values\n",
    "    xTx = xMat.T * (weights * xMat)\n",
    "    if linalg.det(xTx) == 0.0:\n",
    "        print(\"This matrix is singular, cannot do inverse\")\n",
    "        return\n",
    "    ws = xTx.I * (xMat.T * (weights * yMat))\n",
    "    return testPoint * ws"
   ]
  },
  {
   "cell_type": "code",
   "execution_count": 18,
   "metadata": {},
   "outputs": [],
   "source": [
    "def lwlrTest(testArr, xArr, yArr, k = 1.0):\n",
    "    m = shape(testArr)[0]\n",
    "    yHat = zeros(m)\n",
    "    for i in range(m):\n",
    "        yHat[i] = lwlr(testArr[i], xArr, yArr, k)\n",
    "    return yHat"
   ]
  },
  {
   "cell_type": "code",
   "execution_count": 19,
   "metadata": {},
   "outputs": [
    {
     "data": {
      "text/plain": [
       "3.176513"
      ]
     },
     "execution_count": 19,
     "metadata": {},
     "output_type": "execute_result"
    }
   ],
   "source": [
    "xArr, yArr = loadDataSet('/Users/duoduo/Desktop/Data/Machine Learning/Machine Learning in Action/MLA_SourceCode/Ch08/ex0.txt')\n",
    "yArr[0]"
   ]
  },
  {
   "cell_type": "code",
   "execution_count": 20,
   "metadata": {},
   "outputs": [
    {
     "data": {
      "text/plain": [
       "matrix([[3.12204471]])"
      ]
     },
     "execution_count": 20,
     "metadata": {},
     "output_type": "execute_result"
    },
    {
     "data": {
      "text/plain": [
       "matrix([[3.20175729]])"
      ]
     },
     "execution_count": 20,
     "metadata": {},
     "output_type": "execute_result"
    }
   ],
   "source": [
    "lwlr(xArr[0], xArr, yArr, 1.0)\n",
    "lwlr(xArr[0], xArr, yArr, 0.001)"
   ]
  },
  {
   "cell_type": "code",
   "execution_count": 21,
   "metadata": {},
   "outputs": [],
   "source": [
    "yHat = lwlrTest(xArr, xArr, yArr, 0.003)"
   ]
  },
  {
   "cell_type": "code",
   "execution_count": 22,
   "metadata": {},
   "outputs": [],
   "source": [
    "xMat = mat(xArr)\n",
    "srtInd = xMat[:,1].argsort(0)\n",
    "xSort = xMat[srtInd][:,0,:]"
   ]
  },
  {
   "cell_type": "code",
   "execution_count": 24,
   "metadata": {},
   "outputs": [
    {
     "data": {
      "text/plain": [
       "[<matplotlib.lines.Line2D at 0x7feb2696ba10>]"
      ]
     },
     "execution_count": 24,
     "metadata": {},
     "output_type": "execute_result"
    },
    {
     "data": {
      "text/plain": [
       "<matplotlib.collections.PathCollection at 0x7feb2401e450>"
      ]
     },
     "execution_count": 24,
     "metadata": {},
     "output_type": "execute_result"
    },
    {
     "data": {
      "image/png": "[encoded data removed]",
      "text/plain": [
       "<Figure size 432x288 with 1 Axes>"
      ]
     },
     "metadata": {
      "needs_background": "light"
     },
     "output_type": "display_data"
    }
   ],
   "source": [
    "fig = plt.figure()\n",
    "ax = fig.add_subplot(111)\n",
    "ax.plot(xSort[:,1], yHat[srtInd])\n",
    "ax.scatter(xMat[:,1].flatten().A[0], mat(yArr).T.flatten().A[0], s = 2, c = 'red')\n",
    "plt.show()"
   ]
  },
  {
   "cell_type": "markdown",
   "metadata": {},
   "source": [
    "## 8.3   Example: predicting the age of an abalone"
   ]
  },
  {
   "cell_type": "code",
   "execution_count": 25,
   "metadata": {},
   "outputs": [],
   "source": [
    "def rssError(yArr, yHatArr):\n",
    "    return ((yArr - yHatArr) ** 2).sum()"
   ]
  },
  {
   "cell_type": "code",
   "execution_count": 26,
   "metadata": {},
   "outputs": [],
   "source": [
    "abX, abY = loadDataSet('/Users/duoduo/Desktop/Data/Machine Learning/Machine Learning in Action/MLA_SourceCode/Ch08/abalone.txt')\n",
    "yHat01 = lwlrTest(abX[0:99], abX[0:99], abY[0:99], 0.1)\n",
    "yHat1 = lwlrTest(abX[0:99], abX[0:99], abY[0:99], 1)\n",
    "yHat10 = lwlrTest(abX[0:99], abX[0:99], abY[0:99], 10)"
   ]
  },
  {
   "cell_type": "markdown",
   "metadata": {},
   "source": [
    "The function `rssError()` will give us a single number describing the error of our estimate."
   ]
  },
  {
   "cell_type": "code",
   "execution_count": 27,
   "metadata": {},
   "outputs": [
    {
     "data": {
      "text/plain": [
       "56.78868743048742"
      ]
     },
     "execution_count": 27,
     "metadata": {},
     "output_type": "execute_result"
    },
    {
     "data": {
      "text/plain": [
       "429.8905618704253"
      ]
     },
     "execution_count": 27,
     "metadata": {},
     "output_type": "execute_result"
    },
    {
     "data": {
      "text/plain": [
       "549.1181708829058"
      ]
     },
     "execution_count": 27,
     "metadata": {},
     "output_type": "execute_result"
    }
   ],
   "source": [
    "rssError(abY[0:99], yHat01.T)\n",
    "rssError(abY[0:99], yHat1.T)\n",
    "rssError(abY[0:99], yHat10.T)"
   ]
  },
  {
   "cell_type": "code",
   "execution_count": 28,
   "metadata": {},
   "outputs": [],
   "source": [
    "yHat01 = lwlrTest(abX[100:199], abX[0:99], abY[0:99], 0.1)\n",
    "yHat1 = lwlrTest(abX[100:199], abX[0:99], abY[0:99], 1)\n",
    "yHat10 = lwlrTest(abX[100:199], abX[0:99], abY[0:99], 10)"
   ]
  },
  {
   "cell_type": "code",
   "execution_count": 29,
   "metadata": {},
   "outputs": [
    {
     "data": {
      "text/plain": [
       "57913.51550155909"
      ]
     },
     "execution_count": 29,
     "metadata": {},
     "output_type": "execute_result"
    },
    {
     "data": {
      "text/plain": [
       "573.5261441895273"
      ]
     },
     "execution_count": 29,
     "metadata": {},
     "output_type": "execute_result"
    },
    {
     "data": {
      "text/plain": [
       "517.571190538078"
      ]
     },
     "execution_count": 29,
     "metadata": {},
     "output_type": "execute_result"
    }
   ],
   "source": [
    "rssError(abY[100:199], yHat01.T)\n",
    "rssError(abY[100:199], yHat1.T)\n",
    "rssError(abY[100:199], yHat10.T)"
   ]
  },
  {
   "cell_type": "markdown",
   "metadata": {},
   "source": [
    "Compare the errors above with simple linear regression:"
   ]
  },
  {
   "cell_type": "code",
   "execution_count": 30,
   "metadata": {},
   "outputs": [
    {
     "data": {
      "text/plain": [
       "518.6363153245542"
      ]
     },
     "execution_count": 30,
     "metadata": {},
     "output_type": "execute_result"
    }
   ],
   "source": [
    "ws = standRegres(abX[0:99], abY[0:99])\n",
    "yHat = mat(abX[100:199]) * ws\n",
    "rssError(abY[100:199], yHat.T.A)"
   ]
  },
  {
   "cell_type": "markdown",
   "metadata": {},
   "source": [
    "## 8.4   Shrinking coefficients to understand our data"
   ]
  },
  {
   "cell_type": "markdown",
   "metadata": {},
   "source": [
    "### 8.4.1   Ridge regression"
   ]
  },
  {
   "cell_type": "markdown",
   "metadata": {},
   "source": [
    "***Listing 8.3*   Ridge regression: `ridgeRegres()` & `ridgeTest()`**"
   ]
  },
  {
   "cell_type": "code",
   "execution_count": 31,
   "metadata": {},
   "outputs": [],
   "source": [
    "def ridgeRegres(xMat, yMat, lam = 0.2):\n",
    "    xTx = xMat.T * xMat\n",
    "    denom = xTx + eye(shape(xMat)[1]) * lam\n",
    "    if linalg.det(xTx) == 0.0:\n",
    "        print(\"This matrix is singular, cannot do inverse\")\n",
    "        return\n",
    "    ws = denom.I * (xMat.T * yMat)\n",
    "    return ws"
   ]
  },
  {
   "cell_type": "code",
   "execution_count": 32,
   "metadata": {},
   "outputs": [],
   "source": [
    "def ridgeTest(xArr, yArr):\n",
    "    xMat = mat(xArr)\n",
    "    yMat = mat(yArr).T\n",
    "    yMean = mean(yMat, 0)\n",
    "    yMat = yMat - yMean\n",
    "    xMeans = mean(xMat, 0)\n",
    "    xVar = var(xMat, 0)\n",
    "    xMat = (xMat - xMeans) / xVar   # Normalization code\n",
    "    numTestPts = 30\n",
    "    wMat = zeros((numTestPts, shape(xMat)[1]))\n",
    "    for i in range(numTestPts):\n",
    "        ws = ridgeRegres(xMat, yMat, exp(i-10))\n",
    "        wMat[i,:] = ws.T\n",
    "    return wMat"
   ]
  },
  {
   "cell_type": "code",
   "execution_count": 33,
   "metadata": {},
   "outputs": [],
   "source": [
    "abX, abY = loadDataSet('/Users/duoduo/Desktop/Data/Machine Learning/Machine Learning in Action/MLA_SourceCode/Ch08/abalone.txt')\n",
    "ridgeWeights = ridgeTest(abX, abY)"
   ]
  },
  {
   "cell_type": "code",
   "execution_count": 34,
   "metadata": {},
   "outputs": [
    {
     "data": {
      "text/plain": [
       "[<matplotlib.lines.Line2D at 0x7feb26a0f2d0>,\n",
       " <matplotlib.lines.Line2D at 0x7feb26a19950>,\n",
       " <matplotlib.lines.Line2D at 0x7feb26a19b10>,\n",
       " <matplotlib.lines.Line2D at 0x7feb26a19cd0>,\n",
       " <matplotlib.lines.Line2D at 0x7feb26a19e90>,\n",
       " <matplotlib.lines.Line2D at 0x7feb26a1f090>,\n",
       " <matplotlib.lines.Line2D at 0x7feb26a1f2d0>,\n",
       " <matplotlib.lines.Line2D at 0x7feb26a1f490>]"
      ]
     },
     "execution_count": 34,
     "metadata": {},
     "output_type": "execute_result"
    },
    {
     "data": {
      "image/png": "[encoded data removed]",
      "text/plain": [
       "<Figure size 432x288 with 1 Axes>"
      ]
     },
     "metadata": {
      "needs_background": "light"
     },
     "output_type": "display_data"
    }
   ],
   "source": [
    "fig = plt.figure()\n",
    "ax = fig.add_subplot(111)\n",
    "ax.plot(ridgeWeights)\n",
    "plt.show()"
   ]
  },
  {
   "cell_type": "markdown",
   "metadata": {},
   "source": [
    "To find satisfactory answers, you'd need to do cross-validation testing."
   ]
  },
  {
   "cell_type": "markdown",
   "metadata": {},
   "source": [
    "### 8.4.3   Forward stagewise regression"
   ]
  },
  {
   "cell_type": "code",
   "execution_count": 40,
   "metadata": {},
   "outputs": [],
   "source": [
    "def regularize(xMat):\n",
    "    inMat = xMat.copy()\n",
    "    inMeans = mean(inMat, 0)\n",
    "    inVar = var(inMat, 0)\n",
    "    inMat = (inMat - inMeans) / inVar\n",
    "    return inMat"
   ]
  },
  {
   "cell_type": "markdown",
   "metadata": {},
   "source": [
    "***Listing 8.4*   Forward stagewise linear regression: `stageWise()`**"
   ]
  },
  {
   "cell_type": "code",
   "execution_count": 45,
   "metadata": {},
   "outputs": [],
   "source": [
    "def stageWise(xArr, yArr, eps = 0.01, numIt = 100):   # 'eps' is the step size for each iteration\n",
    "    xMat = mat(xArr)\n",
    "    yMat = mat(yArr).T\n",
    "    yMean = mean(yMat, 0)\n",
    "    yMat = yMat - yMean\n",
    "    xMat = regularize(xMat)\n",
    "    m, n = shape(xMat)\n",
    "    ws = zeros((n,1))\n",
    "    wsTest = ws.copy()\n",
    "    wsMax = ws.copy()\n",
    "    returnMat = zeros((numIt,n))   # Initialize 'returnMat'\n",
    "    for i in range(numIt):\n",
    "        # print(ws.T)\n",
    "        lowestError = inf\n",
    "        for j in range(n):\n",
    "            for sign in [-1,1]:\n",
    "                wsTest = ws.copy()\n",
    "                wsTest[j] += eps * sign\n",
    "                yTest = xMat * wsTest\n",
    "                rssE = rssError(yMat.A, yTest.A)\n",
    "                if rssE < lowestError:\n",
    "                    lowestError = rssE\n",
    "                    wsMax = wsTest\n",
    "        ws = wsMax.copy()\n",
    "        returnMat[i,:] = ws.T\n",
    "    return returnMat"
   ]
  },
  {
   "cell_type": "code",
   "execution_count": 46,
   "metadata": {},
   "outputs": [
    {
     "data": {
      "text/plain": [
       "array([[ 0.  ,  0.  ,  0.  , ...,  0.  ,  0.  ,  0.  ],\n",
       "       [ 0.  ,  0.  ,  0.  , ...,  0.  ,  0.  ,  0.  ],\n",
       "       [ 0.  ,  0.  ,  0.  , ...,  0.  ,  0.  ,  0.  ],\n",
       "       ...,\n",
       "       [ 0.05,  0.  ,  0.09, ..., -0.64,  0.  ,  0.36],\n",
       "       [ 0.04,  0.  ,  0.09, ..., -0.64,  0.  ,  0.36],\n",
       "       [ 0.05,  0.  ,  0.09, ..., -0.64,  0.  ,  0.36]])"
      ]
     },
     "execution_count": 46,
     "metadata": {},
     "output_type": "execute_result"
    }
   ],
   "source": [
    "xArr, yArr = loadDataSet('/Users/duoduo/Desktop/Data/Machine Learning/Machine Learning in Action/MLA_SourceCode/Ch08/abalone.txt')\n",
    "stageWise(xArr, yArr, 0.01, 200)"
   ]
  },
  {
   "cell_type": "markdown",
   "metadata": {},
   "source": [
    "Now try `stageWise()` again with smaller step size and more steps."
   ]
  },
  {
   "cell_type": "code",
   "execution_count": 47,
   "metadata": {},
   "outputs": [
    {
     "data": {
      "text/plain": [
       "array([[ 0.   ,  0.   ,  0.   , ...,  0.   ,  0.   ,  0.   ],\n",
       "       [ 0.   ,  0.   ,  0.   , ...,  0.   ,  0.   ,  0.   ],\n",
       "       [ 0.   ,  0.   ,  0.   , ...,  0.   ,  0.   ,  0.   ],\n",
       "       ...,\n",
       "       [ 0.043, -0.011,  0.12 , ..., -0.963, -0.105,  0.187],\n",
       "       [ 0.044, -0.011,  0.12 , ..., -0.963, -0.105,  0.187],\n",
       "       [ 0.043, -0.011,  0.12 , ..., -0.963, -0.105,  0.187]])"
      ]
     },
     "execution_count": 47,
     "metadata": {},
     "output_type": "execute_result"
    }
   ],
   "source": [
    "stageWise(xArr, yArr, 0.001, 5000)"
   ]
  },
  {
   "cell_type": "markdown",
   "metadata": {},
   "source": [
    "Compare with the answers to the least-squares weights:"
   ]
  },
  {
   "cell_type": "code",
   "execution_count": 48,
   "metadata": {},
   "outputs": [
    {
     "data": {
      "text/plain": [
       "matrix([[ 0.0430442 , -0.02274163,  0.13214087,  0.02075182,  2.22403814,\n",
       "         -0.99895312, -0.11725427,  0.16622915]])"
      ]
     },
     "execution_count": 48,
     "metadata": {},
     "output_type": "execute_result"
    }
   ],
   "source": [
    "xMat = mat(xArr)\n",
    "yMat = mat(yArr).T\n",
    "xMat = regularize(xMat)\n",
    "yM = mean(yMat, 0)\n",
    "yMat = yMat - yM\n",
    "weights = standRegres(xMat, yMat.T)\n",
    "weights.T"
   ]
  },
  {
   "cell_type": "markdown",
   "metadata": {},
   "source": [
    "After 5000 iterations, the results from the stagewise linear regression algorithm are close to the results using regular least squares."
   ]
  },
  {
   "cell_type": "markdown",
   "metadata": {},
   "source": [
    "## 8.6   Example: forecasting the price of LEGO sets"
   ]
  },
  {
   "cell_type": "markdown",
   "metadata": {},
   "source": [
    "### 8.6.1   Collect: using the Google shopping API"
   ]
  },
  {
   "cell_type": "markdown",
   "metadata": {},
   "source": [
    "***Listing 8.5*   Shopping information retrieval function: `searchForSet()` & `setDataCollect()`**"
   ]
  },
  {
   "cell_type": "code",
   "execution_count": 50,
   "metadata": {},
   "outputs": [],
   "source": [
    "from time import sleep\n",
    "import json\n",
    "import urllib.request   # 'urllib2' is not available in Python3"
   ]
  },
  {
   "cell_type": "code",
   "execution_count": 65,
   "metadata": {},
   "outputs": [],
   "source": [
    "def searchForSet(retX, retY, setNum, yr, numPce, origPrc):\n",
    "    sleep(10)\n",
    "    myAPIstr = 'get%20from%20code.google.com'\n",
    "    searchURL = 'https://www.googleapis.com/shopping/search/v1/public/products?key=%s&country=US&q=lego+%d&alt=json' % (myAPIstr, setNum)\n",
    "    pg = urllib.request.urlopen(searchURL)\n",
    "    retDict = json.loads(pg.read())\n",
    "    for i in range(len(retDict['items'])):\n",
    "        try:\n",
    "            currItem = retDict['items'][i]\n",
    "            if currItem['product']['condition'] == 'new':\n",
    "                newFlag = 1\n",
    "            else:\n",
    "                newFlag = 0\n",
    "            listOfInv = currItem['product']['inventories']\n",
    "            for item in listOfInv:\n",
    "                sellingPrice = item['price']\n",
    "                if sellingPrice > origPrc * 0.5:\n",
    "                    print(\"%d\\t%d\\t%d\\t%f\\t%f\" % (yr, numPce, newFlag, origPrc, sellingPrice))\n",
    "                    retX.append([yr, numPce, newFlag, origPrc])\n",
    "                    retY.append(sellingPrice)\n",
    "        except:\n",
    "            print('problem with item %d' % i)"
   ]
  },
  {
   "cell_type": "code",
   "execution_count": 66,
   "metadata": {},
   "outputs": [],
   "source": [
    "def setDataCollect(retX, retY):\n",
    "    searchForSet(retX, retY, 8288, 2006, 800, 49.99)\n",
    "    searchForSet(retX, retY, 10030, 2002, 3096, 269.99)\n",
    "    searchForSet(retX, retY, 10179, 2007, 5195, 499.99)\n",
    "    searchForSet(retX, retY, 10181, 2007, 3428, 199.99)\n",
    "    searchForSet(retX, retY, 10189, 2008, 5922, 299.99)\n",
    "    searchForSet(retX, retY, 10196, 2009, 3263, 249.99)"
   ]
  },
  {
   "cell_type": "markdown",
   "metadata": {},
   "source": [
    "The url provided is unavailable now, so I will refer to several offline websites. Functions and files are copied from [Github](https://github.com/Jack-Cherish/Machine-Learning/tree/master/Regression) and [cnblogs](https://www.cnblogs.com/hemiy/p/6249506.html)."
   ]
  },
  {
   "cell_type": "code",
   "execution_count": 84,
   "metadata": {},
   "outputs": [],
   "source": [
    "def scrapePage(retX, retY, inFile, yr, numPce, origPrc):\n",
    "    from bs4 import BeautifulSoup\n",
    "    fr = open(inFile, 'r', encoding = 'utf8')\n",
    "    soup = BeautifulSoup(fr.read())\n",
    "    i = 1\n",
    "    currentRow = soup.findAll('table', r = \"%d\" % i)\n",
    "    while(len(currentRow) != 0):\n",
    "        title = currentRow[0].findAll('a')[1].text\n",
    "        lwrTitle = title.lower()\n",
    "        if (lwrTitle.find('new') > -1) or (lwrTitle.find('nisb') > -1):\n",
    "            newFlag = 1.0\n",
    "        else:\n",
    "            newFlag = 0.0\n",
    "        soldUnicde = currentRow[0].findAll('td')[3].findAll('span')\n",
    "        if len(soldUnicde) == 0:\n",
    "            print(\"item #%d did not sell\" % i)\n",
    "        else:\n",
    "            soldPrice = currentRow[0].findAll('td')[4]\n",
    "            priceStr = soldPrice.text\n",
    "            priceStr = priceStr.replace('$', '')   # strips out $\n",
    "            priceStr = priceStr.replace(',', '')   # strips out ,\n",
    "            if len(soldPrice) > 1:\n",
    "                priceStr = priceStr.replace('Free shipping', '')   # strips out Free Shipping\n",
    "            sellingPrice = float(priceStr)\n",
    "            if  sellingPrice > origPrc * 0.5:\n",
    "                print(\"%d\\t%d\\t%d\\t%f\\t%f\" % (yr, numPce, newFlag, origPrc, sellingPrice))\n",
    "                retX.append([yr, numPce, newFlag, origPrc])\n",
    "                retY.append(sellingPrice)\n",
    "        i += 1\n",
    "        currentRow = soup.findAll('table', r = \"%d\" % i)"
   ]
  },
  {
   "cell_type": "code",
   "execution_count": 89,
   "metadata": {},
   "outputs": [],
   "source": [
    "def setDataCollect(retX, retY):\n",
    "    scrapePage(retX, retY, '/Users/duoduo/Desktop/Data/Machine Learning/Machine Learning in Action/MLA_Summary/legoEbay/lego8288.html', 2006, 800, 49.99)\n",
    "    scrapePage(retX, retY, '/Users/duoduo/Desktop/Data/Machine Learning/Machine Learning in Action/MLA_Summary/legoEbay/lego10030.html', 2002, 3096, 269.99)\n",
    "    scrapePage(retX, retY, '/Users/duoduo/Desktop/Data/Machine Learning/Machine Learning in Action/MLA_Summary/legoEbay/lego10179.html', 2007, 5195, 499.99)\n",
    "    scrapePage(retX, retY, '/Users/duoduo/Desktop/Data/Machine Learning/Machine Learning in Action/MLA_Summary/legoEbay/lego10181.html', 2007, 3428, 199.99)\n",
    "    scrapePage(retX, retY, '/Users/duoduo/Desktop/Data/Machine Learning/Machine Learning in Action/MLA_Summary/legoEbay/lego10189.html', 2008, 5922, 299.99)\n",
    "    scrapePage(retX, retY, '/Users/duoduo/Desktop/Data/Machine Learning/Machine Learning in Action/MLA_Summary/legoEbay/lego10196.html', 2009, 3263, 249.99)"
   ]
  },
  {
   "cell_type": "code",
   "execution_count": 90,
   "metadata": {},
   "outputs": [],
   "source": [
    "lgX = []\n",
    "lgY = []"
   ]
  },
  {
   "cell_type": "code",
   "execution_count": 91,
   "metadata": {},
   "outputs": [
    {
     "name": "stdout",
     "output_type": "stream",
     "text": [
      "2006\t800\t0\t49.990000\t85.000000\n",
      "2006\t800\t0\t49.990000\t102.500000\n",
      "2006\t800\t0\t49.990000\t77.000000\n",
      "item #4 did not sell\n",
      "2006\t800\t0\t49.990000\t162.500000\n",
      "2002\t3096\t0\t269.990000\t699.990000\n",
      "2002\t3096\t0\t269.990000\t602.000000\n",
      "2002\t3096\t0\t269.990000\t515.000000\n",
      "2002\t3096\t0\t269.990000\t510.000000\n",
      "2002\t3096\t0\t269.990000\t375.000000\n",
      "2002\t3096\t1\t269.990000\t1050.000000\n",
      "2002\t3096\t0\t269.990000\t740.000000\n",
      "2002\t3096\t1\t269.990000\t759.000000\n",
      "2002\t3096\t0\t269.990000\t730.000000\n",
      "2002\t3096\t1\t269.990000\t750.000000\n",
      "item #11 did not sell\n",
      "2007\t5195\t0\t499.990000\t910.000000\n",
      "2007\t5195\t1\t499.990000\t1199.990000\n",
      "2007\t5195\t0\t499.990000\t811.880000\n",
      "item #4 did not sell\n",
      "2007\t5195\t0\t499.990000\t1324.790000\n",
      "2007\t5195\t1\t499.990000\t850.000000\n",
      "2007\t5195\t1\t499.990000\t800.000000\n",
      "2007\t5195\t0\t499.990000\t810.000000\n",
      "2007\t5195\t1\t499.990000\t1075.000000\n",
      "2007\t5195\t0\t499.990000\t1050.000000\n",
      "2007\t5195\t1\t499.990000\t1199.990000\n",
      "2007\t5195\t0\t499.990000\t1342.310000\n",
      "2007\t5195\t1\t499.990000\t1000.000000\n",
      "2007\t5195\t0\t499.990000\t1780.000000\n",
      "2007\t5195\t0\t499.990000\t750.000000\n",
      "item #16 did not sell\n",
      "2007\t5195\t0\t499.990000\t2204.990000\n",
      "item #18 did not sell\n",
      "2007\t5195\t1\t499.990000\t925.000000\n",
      "2007\t5195\t0\t499.990000\t860.000000\n",
      "item #21 did not sell\n",
      "item #22 did not sell\n",
      "2007\t5195\t1\t499.990000\t1199.990000\n",
      "2007\t5195\t1\t499.990000\t1099.990000\n",
      "2007\t5195\t1\t499.990000\t1149.990000\n",
      "2007\t5195\t1\t499.990000\t800.000000\n",
      "2007\t5195\t1\t499.990000\t850.000000\n",
      "2007\t3428\t0\t199.990000\t469.950000\n",
      "2007\t3428\t0\t199.990000\t479.000000\n",
      "2007\t3428\t0\t199.990000\t299.990000\n",
      "2007\t3428\t0\t199.990000\t369.000000\n",
      "2007\t3428\t1\t199.990000\t424.950000\n",
      "2007\t3428\t1\t199.990000\t380.000000\n",
      "2007\t3428\t0\t199.990000\t305.000000\n",
      "2008\t5922\t1\t299.990000\t530.000000\n",
      "item #2 did not sell\n",
      "2008\t5922\t1\t299.990000\t599.950000\n",
      "2008\t5922\t0\t299.990000\t510.000000\n",
      "2008\t5922\t0\t299.990000\t423.000000\n",
      "item #6 did not sell\n",
      "item #7 did not sell\n",
      "2008\t5922\t1\t299.990000\t599.990000\n",
      "item #9 did not sell\n",
      "2008\t5922\t1\t299.990000\t589.990000\n",
      "2008\t5922\t1\t299.990000\t569.990000\n",
      "2008\t5922\t1\t299.990000\t529.990000\n",
      "2008\t5922\t0\t299.990000\t500.000000\n",
      "2008\t5922\t1\t299.990000\t549.950000\n",
      "2008\t5922\t0\t299.990000\t300.000000\n",
      "item #16 did not sell\n",
      "2009\t3263\t1\t249.990000\t380.000000\n",
      "2009\t3263\t1\t249.990000\t399.000000\n",
      "2009\t3263\t1\t249.990000\t427.990000\n",
      "2009\t3263\t0\t249.990000\t360.000000\n",
      "item #5 did not sell\n",
      "item #6 did not sell\n",
      "2009\t3263\t1\t249.990000\t399.000000\n",
      "2009\t3263\t1\t249.990000\t399.950000\n",
      "2009\t3263\t1\t249.990000\t499.990000\n",
      "item #10 did not sell\n",
      "2009\t3263\t0\t249.990000\t399.950000\n",
      "item #12 did not sell\n",
      "2009\t3263\t1\t249.990000\t331.510000\n"
     ]
    }
   ],
   "source": [
    "setDataCollect(lgX, lgY)"
   ]
  },
  {
   "cell_type": "markdown",
   "metadata": {},
   "source": [
    "### 8.6.2   Train: building a model"
   ]
  },
  {
   "cell_type": "markdown",
   "metadata": {},
   "source": [
    "First, add in a 1 for `X0`."
   ]
  },
  {
   "cell_type": "code",
   "execution_count": 92,
   "metadata": {},
   "outputs": [
    {
     "data": {
      "text/plain": [
       "(63, 4)"
      ]
     },
     "execution_count": 92,
     "metadata": {},
     "output_type": "execute_result"
    }
   ],
   "source": [
    "shape(lgX)"
   ]
  },
  {
   "cell_type": "code",
   "execution_count": 93,
   "metadata": {},
   "outputs": [],
   "source": [
    "lgX1 = mat(ones((63,5)))\n",
    "lgX1[:,1:5] = mat(lgX)"
   ]
  },
  {
   "cell_type": "code",
   "execution_count": 94,
   "metadata": {},
   "outputs": [
    {
     "data": {
      "text/plain": [
       "[2006, 800, 0.0, 49.99]"
      ]
     },
     "execution_count": 94,
     "metadata": {},
     "output_type": "execute_result"
    },
    {
     "data": {
      "text/plain": [
       "matrix([[1.000e+00, 2.006e+03, 8.000e+02, 0.000e+00, 4.999e+01]])"
      ]
     },
     "execution_count": 94,
     "metadata": {},
     "output_type": "execute_result"
    }
   ],
   "source": [
    "lgX[0]\n",
    "lgX1[0]"
   ]
  },
  {
   "cell_type": "code",
   "execution_count": 95,
   "metadata": {},
   "outputs": [
    {
     "data": {
      "text/plain": [
       "matrix([[ 5.53199701e+04],\n",
       "        [-2.75928219e+01],\n",
       "        [-2.68392234e-02],\n",
       "        [-1.12208481e+01],\n",
       "        [ 2.57604055e+00]])"
      ]
     },
     "execution_count": 95,
     "metadata": {},
     "output_type": "execute_result"
    }
   ],
   "source": [
    "ws = standRegres(lgX1, lgY)\n",
    "ws"
   ]
  },
  {
   "cell_type": "code",
   "execution_count": 96,
   "metadata": {},
   "outputs": [
    {
     "data": {
      "text/plain": [
       "matrix([[76.07418864]])"
      ]
     },
     "execution_count": 96,
     "metadata": {},
     "output_type": "execute_result"
    },
    {
     "data": {
      "text/plain": [
       "matrix([[431.17797682]])"
      ]
     },
     "execution_count": 96,
     "metadata": {},
     "output_type": "execute_result"
    },
    {
     "data": {
      "text/plain": [
       "matrix([[516.20733116]])"
      ]
     },
     "execution_count": 96,
     "metadata": {},
     "output_type": "execute_result"
    }
   ],
   "source": [
    "lgX1[0] * ws\n",
    "lgX1[-1] * ws\n",
    "lgX1[43] * ws"
   ]
  },
  {
   "cell_type": "markdown",
   "metadata": {},
   "source": [
    "The price of a set will be `$55319.97 - 27.59 * Year - 0.00268 * NumPieces - 11.22 * NewOrUsed + 2.57 * original price` according to the model."
   ]
  },
  {
   "cell_type": "markdown",
   "metadata": {},
   "source": [
    "***Listing 8.6*  Cross-validation testing with ridge regression: `crossValidation()`**"
   ]
  },
  {
   "cell_type": "code",
   "execution_count": 97,
   "metadata": {},
   "outputs": [],
   "source": [
    "import random"
   ]
  },
  {
   "cell_type": "code",
   "execution_count": 104,
   "metadata": {},
   "outputs": [],
   "source": [
    "def crossValidation(xArr, yArr, numVal = 10):\n",
    "    m = len(yArr)\n",
    "    indexList = list(range(m))\n",
    "    errorMat = zeros((numVal, 30))\n",
    "    for i in range(numVal):\n",
    "        trainX = []\n",
    "        trainY = []\n",
    "        testX = []\n",
    "        testY = []   # Create training and test containers\n",
    "        random.shuffle(indexList)\n",
    "        for j in range(m):\n",
    "            if j < m * 0.9:\n",
    "                trainX.append(xArr[indexList[j]])\n",
    "                trainY.append(yArr[indexList[j]])\n",
    "            else:\n",
    "                testX.append(xArr[indexList[j]])\n",
    "                testY.append(yArr[indexList[j]])   # Split data into test and training sets\n",
    "        wMat = ridgeTest(trainX, trainY)\n",
    "        for k in range(30):\n",
    "            matTestX = mat(testX)\n",
    "            matTrainX = mat(trainX)\n",
    "            meanTrain = mean(matTrainX, 0)\n",
    "            varTrain = var(matTrainX, 0)   # Regularize test with training params\n",
    "            matTestX = (matTestX - meanTrain) / varTrain\n",
    "            yEst = matTestX * mat(wMat[k,:]).T + mean(trainY)\n",
    "            errorMat[i,k] = rssError(yEst.T.A, array(testY))\n",
    "    meanErrors = mean(errorMat, 0)\n",
    "    minMean = float(min(meanErrors))\n",
    "    bestWeights = wMat[nonzero(meanErrors == minMean)]\n",
    "    xMat = mat(xArr)\n",
    "    yMat = mat(yArr).T\n",
    "    meanX = mean(xMat, 0)\n",
    "    varX = var(xMat, 0)\n",
    "    unReg = bestWeights / varX\n",
    "    print(\"the best model from Ridge Regression is:\\n\", unReg)\n",
    "    print(\"with constant term: \", -1*sum(multiply(meanX, unReg)) + mean(yMat))   # Undo regularization"
   ]
  },
  {
   "cell_type": "code",
   "execution_count": 105,
   "metadata": {},
   "outputs": [
    {
     "name": "stdout",
     "output_type": "stream",
     "text": [
      "the best model from Ridge Regression is:\n",
      " [[-3.18805372e+01 -1.93513061e-03 -3.48041084e+01  2.27669730e+00]]\n",
      "with constant term:  63928.8548244537\n"
     ]
    }
   ],
   "source": [
    "crossValidation(lgX, lgY, 10)"
   ]
  },
  {
   "cell_type": "code",
   "execution_count": 107,
   "metadata": {},
   "outputs": [
    {
     "data": {
      "text/plain": [
       "array([[-1.45288906e+02, -8.39360442e+03, -3.28682450e+00,\n",
       "         4.42362406e+04],\n",
       "       [-1.46649725e+02, -1.89952152e+03, -2.80638599e+00,\n",
       "         4.27891633e+04],\n",
       "       [-1.44450432e+02,  8.55488076e+02, -1.35089285e+00,\n",
       "         4.00885735e+04],\n",
       "       [-1.37402474e+02,  1.64217093e+03,  1.95840783e+00,\n",
       "         3.44932120e+04],\n",
       "       [-1.24750588e+02,  1.44326171e+03,  7.62540167e+00,\n",
       "         2.50647592e+04],\n",
       "       [-1.10234679e+02,  8.81842164e+02,  1.40617304e+01,\n",
       "         1.43874420e+04],\n",
       "       [-9.96484167e+01,  4.17805568e+02,  1.87140361e+01,\n",
       "         6.66770425e+03],\n",
       "       [-9.40345090e+01,  1.71289137e+02,  2.10844952e+01,\n",
       "         2.71206176e+03],\n",
       "       [-9.11400659e+01,  6.57287394e+01,  2.20487105e+01,\n",
       "         1.03800465e+03],\n",
       "       [-8.86246985e+01,  2.45452725e+01,  2.23181664e+01,\n",
       "         3.87564774e+02],\n",
       "       [-8.41447674e+01,  9.05861459e+00,  2.21495534e+01,\n",
       "         1.43313895e+02],\n",
       "       [-7.44804291e+01,  3.31863501e+00,  2.14607512e+01,\n",
       "         5.27810178e+01],\n",
       "       [-5.68008473e+01,  1.20770663e+00,  2.00168153e+01,\n",
       "         1.93999701e+01],\n",
       "       [-3.43546503e+01,  4.38238026e-01,  1.77836684e+01,\n",
       "         7.12719906e+00],\n",
       "       [-1.62951276e+01,  1.59882766e-01,  1.48514658e+01,\n",
       "         2.62234165e+00],\n",
       "       [-6.48291858e+00,  5.89025383e-02,  1.09847950e+01,\n",
       "         9.67404902e-01],\n",
       "       [-2.35268585e+00,  2.18391027e-02,  6.61152257e+00,\n",
       "         3.57478187e-01],\n",
       "       [-8.35001919e-01,  8.09519290e-03,  3.19552087e+00,\n",
       "         1.32007993e-01],\n",
       "       [-2.99711902e-01,  2.99108326e-03,  1.33043325e+00,\n",
       "         4.86659524e-02],\n",
       "       [-1.08982743e-01,  1.10249682e-03,  5.14449554e-01,\n",
       "         1.79199150e-02],\n",
       "       [-3.99038878e-02,  4.05898142e-04,  1.92885670e-01,\n",
       "         6.59479857e-03],\n",
       "       [-1.46534283e-02,  1.49365062e-04,  7.14631760e-02,\n",
       "         2.42642878e-03],\n",
       "       [-5.38707897e-03,  5.49542829e-05,  2.63587872e-02,\n",
       "         8.92679468e-04],\n",
       "       [-1.98130399e-03,  2.02173589e-05,  9.70622185e-03,\n",
       "         3.28404700e-04],\n",
       "       [-7.28814363e-04,  7.43766021e-06,  3.57198872e-03,\n",
       "         1.20814188e-04],\n",
       "       [-2.68106796e-04,  2.73617711e-06,  1.31423307e-03,\n",
       "         4.44451712e-05],\n",
       "       [-9.86297565e-05,  1.00658531e-06,  4.83502591e-04,\n",
       "         1.63504803e-05],\n",
       "       [-3.62836944e-05,  3.70302314e-07,  1.77873811e-04,\n",
       "         6.01500768e-06],\n",
       "       [-1.33480028e-05,  1.36226645e-07,  6.54365445e-05,\n",
       "         2.21279795e-06],\n",
       "       [-4.91045279e-06,  5.01149871e-08,  2.40728171e-05,\n",
       "         8.14042912e-07]])"
      ]
     },
     "execution_count": 107,
     "metadata": {},
     "output_type": "execute_result"
    }
   ],
   "source": [
    "ridgeTest(lgX, lgY)"
   ]
  },
  {
   "cell_type": "markdown",
   "metadata": {},
   "source": [
    "If having to choose one feature to predict the future, choose the fourth feature according to the regularized coefficients above."
   ]
  },
  {
   "cell_type": "code",
   "execution_count": null,
   "metadata": {},
   "outputs": [],
   "source": []
  }
 ],
 "metadata": {
  "kernelspec": {
   "display_name": "Python 3",
   "language": "python",
   "name": "python3"
  },
  "language_info": {
   "codemirror_mode": {
    "name": "ipython",
    "version": 3
   },
   "file_extension": ".py",
   "mimetype": "text/x-python",
   "name": "python",
   "nbconvert_exporter": "python",
   "pygments_lexer": "ipython3",
   "version": "3.7.4"
  }
 },
 "nbformat": 4,
 "nbformat_minor": 4
}
