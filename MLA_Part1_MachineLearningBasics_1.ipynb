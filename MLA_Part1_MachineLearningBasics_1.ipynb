{
 "cells": [
  {
   "cell_type": "markdown",
   "metadata": {},
   "source": [
    "# 1   Machine learning basics"
   ]
  },
  {
   "cell_type": "markdown",
   "metadata": {},
   "source": [
    "## 1.7   Getting started with the NumPy library"
   ]
  },
  {
   "cell_type": "markdown",
   "metadata": {},
   "source": [
    "Insert all of the NumPy modules into the current namespace."
   ]
  },
  {
   "cell_type": "code",
   "execution_count": 1,
   "metadata": {},
   "outputs": [],
   "source": [
    "from numpy import *"
   ]
  },
  {
   "cell_type": "markdown",
   "metadata": {},
   "source": [
    "Create a random array of size 4\\*4."
   ]
  },
  {
   "cell_type": "code",
   "execution_count": 2,
   "metadata": {},
   "outputs": [
    {
     "data": {
      "text/plain": [
       "array([[0.17811186, 0.33592004, 0.97636259, 0.30023615],\n",
       "       [0.40979448, 0.80776068, 0.63067117, 0.70707832],\n",
       "       [0.21237047, 0.09323114, 0.54765665, 0.15180187],\n",
       "       [0.72512362, 0.2700893 , 0.14455915, 0.27074538]])"
      ]
     },
     "execution_count": 2,
     "metadata": {},
     "output_type": "execute_result"
    }
   ],
   "source": [
    "random.rand(4,4)"
   ]
  },
  {
   "cell_type": "markdown",
   "metadata": {},
   "source": [
    "Convert an array to a matrix by calling the `mat()` function."
   ]
  },
  {
   "cell_type": "code",
   "execution_count": 3,
   "metadata": {},
   "outputs": [],
   "source": [
    "randMat = mat(random.rand(4,4))"
   ]
  },
  {
   "cell_type": "code",
   "execution_count": 6,
   "metadata": {},
   "outputs": [
    {
     "name": "stdout",
     "output_type": "stream",
     "text": [
      "[[0.1232389  0.68312111 0.49105663 0.50101773]\n",
      " [0.17718441 0.19439263 0.95494793 0.46076548]\n",
      " [0.97872811 0.31073297 0.82294299 0.68993306]\n",
      " [0.05033477 0.65584221 0.61586485 0.15844132]]\n"
     ]
    }
   ],
   "source": [
    "print(randMat)"
   ]
  },
  {
   "cell_type": "markdown",
   "metadata": {},
   "source": [
    "The `.I` operator solves the inverse of a matrix."
   ]
  },
  {
   "cell_type": "code",
   "execution_count": 7,
   "metadata": {},
   "outputs": [
    {
     "data": {
      "text/plain": [
       "matrix([[-1.04044969, -1.10495515,  1.31217598,  0.78953738],\n",
       "        [ 0.5692109 , -1.15563385,  0.07379424,  1.239439  ],\n",
       "        [-1.20450602,  1.13080027, -0.10283779,  0.96815872],\n",
       "        [ 2.65632225,  0.73914424, -0.32258807, -2.83305226]])"
      ]
     },
     "execution_count": 7,
     "metadata": {},
     "output_type": "execute_result"
    }
   ],
   "source": [
    "randMat.I"
   ]
  },
  {
   "cell_type": "code",
   "execution_count": 8,
   "metadata": {},
   "outputs": [
    {
     "data": {
      "text/plain": [
       "matrix([[ 1.00000000e+00,  5.35638791e-17,  5.00078112e-18,\n",
       "          1.94596999e-16],\n",
       "        [ 5.05990556e-17,  1.00000000e+00, -3.42222973e-17,\n",
       "         -4.18350872e-17],\n",
       "        [-1.74637136e-16, -2.41478401e-16,  1.00000000e+00,\n",
       "         -1.42316762e-16],\n",
       "        [-1.36353116e-16, -3.70839230e-18,  1.03178099e-17,\n",
       "          1.00000000e+00]])"
      ]
     },
     "execution_count": 8,
     "metadata": {},
     "output_type": "execute_result"
    }
   ],
   "source": [
    "invRandMat = randMat.I\n",
    "randMat * invRandMat"
   ]
  },
  {
   "cell_type": "markdown",
   "metadata": {},
   "source": [
    "Create an identity matrix using `eye()`."
   ]
  },
  {
   "cell_type": "code",
   "execution_count": 9,
   "metadata": {},
   "outputs": [
    {
     "name": "stdout",
     "output_type": "stream",
     "text": [
      "[[1. 0. 0. 0.]\n",
      " [0. 1. 0. 0.]\n",
      " [0. 0. 1. 0.]\n",
      " [0. 0. 0. 1.]]\n"
     ]
    }
   ],
   "source": [
    "print(eye(4))"
   ]
  },
  {
   "cell_type": "code",
   "execution_count": null,
   "metadata": {},
   "outputs": [],
   "source": []
  }
 ],
 "metadata": {
  "kernelspec": {
   "display_name": "Python 3",
   "language": "python",
   "name": "python3"
  },
  "language_info": {
   "codemirror_mode": {
    "name": "ipython",
    "version": 3
   },
   "file_extension": ".py",
   "mimetype": "text/x-python",
   "name": "python",
   "nbconvert_exporter": "python",
   "pygments_lexer": "ipython3",
   "version": "3.7.4"
  }
 },
 "nbformat": 4,
 "nbformat_minor": 4
}
