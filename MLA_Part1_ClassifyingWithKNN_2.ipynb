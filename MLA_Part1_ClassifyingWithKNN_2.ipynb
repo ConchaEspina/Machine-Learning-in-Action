{
 "cells": [
  {
   "cell_type": "markdown",
   "metadata": {},
   "source": [
    "# 2   Classifying with k-Nearest Neighbors"
   ]
  },
  {
   "cell_type": "markdown",
   "metadata": {},
   "source": [
    "## 2.1   Classifying with distance measurements"
   ]
  },
  {
   "cell_type": "markdown",
   "metadata": {},
   "source": [
    "### 2.1.1   Prepare: importing data with Python"
   ]
  },
  {
   "cell_type": "code",
   "execution_count": 9,
   "metadata": {},
   "outputs": [],
   "source": [
    "from IPython.core.interactiveshell import InteractiveShell \n",
    "InteractiveShell.ast_node_interactivity = 'all'"
   ]
  },
  {
   "cell_type": "markdown",
   "metadata": {},
   "source": [
    "Import 2 modules: NumPy and operator used in the kNN algorithm for sorting."
   ]
  },
  {
   "cell_type": "code",
   "execution_count": 1,
   "metadata": {},
   "outputs": [],
   "source": [
    "from numpy import *\n",
    "import operator"
   ]
  },
  {
   "cell_type": "markdown",
   "metadata": {},
   "source": [
    "The function `createDataSet()` creates the dataset and labels."
   ]
  },
  {
   "cell_type": "code",
   "execution_count": 3,
   "metadata": {},
   "outputs": [],
   "source": [
    "def createDataSet():\n",
    "    group = array([[1.0,1.1], [1.0,1.0], [0,0], [0, 0.1]])\n",
    "    labels = ['A', 'A', 'B', 'B']\n",
    "    return group, labels"
   ]
  },
  {
   "cell_type": "code",
   "execution_count": 10,
   "metadata": {},
   "outputs": [
    {
     "data": {
      "text/plain": [
       "array([[1. , 1.1],\n",
       "       [1. , 1. ],\n",
       "       [0. , 0. ],\n",
       "       [0. , 0.1]])"
      ]
     },
     "execution_count": 10,
     "metadata": {},
     "output_type": "execute_result"
    },
    {
     "data": {
      "text/plain": [
       "['A', 'A', 'B', 'B']"
      ]
     },
     "execution_count": 10,
     "metadata": {},
     "output_type": "execute_result"
    }
   ],
   "source": [
    "group, labels = createDataSet()\n",
    "group\n",
    "labels"
   ]
  },
  {
   "cell_type": "code",
   "execution_count": null,
   "metadata": {},
   "outputs": [],
   "source": []
  },
  {
   "cell_type": "markdown",
   "metadata": {},
   "source": [
    "### 2.1.2   Putting the kNN classification algorithm into action"
   ]
  },
  {
   "cell_type": "markdown",
   "metadata": {},
   "source": [
    "***Listing 2.1* k-Nearest Neighbors algorithm: `classify0()`**"
   ]
  },
  {
   "cell_type": "code",
   "execution_count": 12,
   "metadata": {},
   "outputs": [],
   "source": [
    "def classify0(inX, dataSet, labels, k):\n",
    "    dataSetSize = dataSet.shape[0]\n",
    "    diffMat = tile(inX, (dataSetSize, 1)) - dataSet\n",
    "    sqDiffMat = diffMat ** 2\n",
    "    sqDistances = sqDiffMat.sum(axis = 1)\n",
    "    distances = sqDistances ** 0.5\n",
    "    sortedDistIndicies = distances.argsort()   # Distance calculation\n",
    "    classCount = {}\n",
    "    for i in range(k):\n",
    "        voteIlabel = labels[sortedDistIndicies[i]]\n",
    "        classCount[voteIlabel] = classCount.get(voteIlabel, 0) + 1   # Voting with lowest k distances\n",
    "    sortedClassCount = sorted(classCount.items(), key = operator.itemgetter(1), reverse = True)   # Sort dictionary\n",
    "    # Mind that there is \"classCount.items()\" instead of \"classCount.iteritems()\" which has been removed from Python3\n",
    "    return sortedClassCount[0][0]"
   ]
  },
  {
   "cell_type": "code",
   "execution_count": 14,
   "metadata": {},
   "outputs": [
    {
     "data": {
      "text/plain": [
       "'B'"
      ]
     },
     "execution_count": 14,
     "metadata": {},
     "output_type": "execute_result"
    },
    {
     "data": {
      "text/plain": [
       "'A'"
      ]
     },
     "execution_count": 14,
     "metadata": {},
     "output_type": "execute_result"
    }
   ],
   "source": [
    "classify0([0,0], group, labels, 3)\n",
    "classify0([0.8,1.0], group, labels, 3)"
   ]
  },
  {
   "cell_type": "markdown",
   "metadata": {},
   "source": [
    "## 2.2   Example: improving matches from a dating site with kNN"
   ]
  },
  {
   "cell_type": "markdown",
   "metadata": {},
   "source": [
    "### 2.2.1   Prepare: parsing data from a text file"
   ]
  },
  {
   "cell_type": "markdown",
   "metadata": {},
   "source": [
    "***List 2.2*   Text record to NumPy parsing code: `file2matrix`**"
   ]
  },
  {
   "cell_type": "code",
   "execution_count": 27,
   "metadata": {},
   "outputs": [],
   "source": [
    "def file2matrix(filename):\n",
    "    fr = open(filename)\n",
    "    numberOfLines = len(fr.readlines())   # Get number of lines in files\n",
    "    returnMat = zeros((numberOfLines, 3))   # Create NumPy matrix to return\n",
    "    classLabelVector = []\n",
    "    fr = open(filename)\n",
    "    index = 0\n",
    "    for line in fr.readlines():\n",
    "        line = line.strip()\n",
    "        listFromLine = line.split('\\t')   # Parse a line to a list\n",
    "        returnMat[index,:] = listFromLine[0:3]\n",
    "        classLabelVector.append(int(listFromLine[-1]))\n",
    "        index += 1\n",
    "    return returnMat, classLabelVector"
   ]
  },
  {
   "cell_type": "code",
   "execution_count": 28,
   "metadata": {},
   "outputs": [],
   "source": [
    "datingDataMat, datingLabels = file2matrix('/Users/duoduo/Desktop/Data/Machine Learning/Machine Learning in Action/MLA_SourceCode/Ch02/datingTestSet2.txt')"
   ]
  },
  {
   "cell_type": "code",
   "execution_count": 29,
   "metadata": {},
   "outputs": [
    {
     "data": {
      "text/plain": [
       "array([[4.0920000e+04, 8.3269760e+00, 9.5395200e-01],\n",
       "       [1.4488000e+04, 7.1534690e+00, 1.6739040e+00],\n",
       "       [2.6052000e+04, 1.4418710e+00, 8.0512400e-01],\n",
       "       ...,\n",
       "       [2.6575000e+04, 1.0650102e+01, 8.6662700e-01],\n",
       "       [4.8111000e+04, 9.1345280e+00, 7.2804500e-01],\n",
       "       [4.3757000e+04, 7.8826010e+00, 1.3324460e+00]])"
      ]
     },
     "execution_count": 29,
     "metadata": {},
     "output_type": "execute_result"
    },
    {
     "data": {
      "text/plain": [
       "[3, 2, 1, 1, 1, 1, 3, 3, 1, 3, 1, 1, 2, 1, 1, 1, 1, 1, 2, 3]"
      ]
     },
     "execution_count": 29,
     "metadata": {},
     "output_type": "execute_result"
    }
   ],
   "source": [
    "datingDataMat\n",
    "datingLabels[0:20]"
   ]
  },
  {
   "cell_type": "markdown",
   "metadata": {},
   "source": [
    "### 2.2.2 Analyze: creating scatter plots with Matplotlib"
   ]
  },
  {
   "cell_type": "code",
   "execution_count": 30,
   "metadata": {},
   "outputs": [],
   "source": [
    "import matplotlib\n",
    "import matplotlib.pyplot as plt"
   ]
  },
  {
   "cell_type": "code",
   "execution_count": 40,
   "metadata": {},
   "outputs": [
    {
     "data": {
      "text/plain": [
       "<matplotlib.collections.PathCollection at 0x7fc3ad6e0550>"
      ]
     },
     "execution_count": 40,
     "metadata": {},
     "output_type": "execute_result"
    },
    {
     "data": {
      "image/png": "[encoded data removed]",
      "text/plain": [
       "<Figure size 432x288 with 1 Axes>"
      ]
     },
     "metadata": {
      "needs_background": "light"
     },
     "output_type": "display_data"
    }
   ],
   "source": [
    "fig = plt.figure()\n",
    "ax = fig.add_subplot(111, xlabel = \"Percentage of time spent playing video games\", \n",
    "                     ylabel = \"Liters of ice cream consumed weekly\")\n",
    "ax.scatter(datingDataMat[:,1], datingDataMat[:,2])\n",
    "plt.show()"
   ]
  },
  {
   "cell_type": "markdown",
   "metadata": {},
   "source": [
    "The scatter plot above is about all of the values for the feature \"Percentage of time spent playing video games\" and \"Liters of ice cream consumed weekly\" for all the classes put together."
   ]
  },
  {
   "cell_type": "code",
   "execution_count": 41,
   "metadata": {},
   "outputs": [
    {
     "data": {
      "text/plain": [
       "<matplotlib.collections.PathCollection at 0x7fc3ad802f10>"
      ]
     },
     "execution_count": 41,
     "metadata": {},
     "output_type": "execute_result"
    },
    {
     "data": {
      "image/png": "[encoded data removed]",
      "text/plain": [
       "<Figure size 432x288 with 1 Axes>"
      ]
     },
     "metadata": {
      "needs_background": "light"
     },
     "output_type": "display_data"
    }
   ],
   "source": [
    "fig = plt.figure()\n",
    "ax = fig.add_subplot(111, xlabel = \"Percentage of time spent playing video games\", \n",
    "                     ylabel = \"Liters of ice cream consumed weekly\")\n",
    "ax.scatter(datingDataMat[:,1], datingDataMat[:,2], 15.0 * array(datingLabels), 15.0 * array(datingLabels))\n",
    "plt.show()"
   ]
  },
  {
   "cell_type": "markdown",
   "metadata": {},
   "source": [
    "The scatter plot above is about all of the values for the feature \"Percentage of time spent playing video games\" and \"Liters of ice cream consumed weekly\" with different marker sizes and colors."
   ]
  },
  {
   "cell_type": "code",
   "execution_count": 44,
   "metadata": {},
   "outputs": [
    {
     "data": {
      "text/plain": [
       "<matplotlib.collections.PathCollection at 0x7fc3adaa0350>"
      ]
     },
     "execution_count": 44,
     "metadata": {},
     "output_type": "execute_result"
    },
    {
     "data": {
      "image/png": "[encoded data removed]",
      "text/plain": [
       "<Figure size 432x288 with 1 Axes>"
      ]
     },
     "metadata": {
      "needs_background": "light"
     },
     "output_type": "display_data"
    }
   ],
   "source": [
    "fig = plt.figure()\n",
    "ax = fig.add_subplot(111, xlabel = \"Frequent flyer miles earned per year\", \n",
    "                     ylabel = \"Percentage of time spent playing video games\")\n",
    "ax.scatter(datingDataMat[:,0], datingDataMat[:,1], 15.0 * array(datingLabels), 15.0 * array(datingLabels))\n",
    "plt.show()"
   ]
  },
  {
   "cell_type": "markdown",
   "metadata": {},
   "source": [
    "The scatter plot above is about all of the values for the feature \"Liters of ice cream consumed weekly\" and \"Percentage of time spent playing video games\" with different marker sizes and colors."
   ]
  },
  {
   "cell_type": "markdown",
   "metadata": {},
   "source": [
    "### 2.2.3   Prepare: normalizing numeric values"
   ]
  },
  {
   "cell_type": "markdown",
   "metadata": {},
   "source": [
    "***List 2.3*   Data-normalizing code: `autoNorm()`**"
   ]
  },
  {
   "cell_type": "code",
   "execution_count": 45,
   "metadata": {},
   "outputs": [],
   "source": [
    "def autoNorm(dataSet):\n",
    "    minVals = dataSet.min(0)\n",
    "    maxVals = dataSet.max(0)\n",
    "    ranges = maxVals - minVals\n",
    "    normDataSet = zeros(shape(dataSet))\n",
    "    m = dataSet.shape[0]\n",
    "    normDataSet = dataSet - tile(minVals, (m,1))\n",
    "    normDataSet = normDataSet / tile(ranges, (m,1))   # Element-wise division\n",
    "    return normDataSet, ranges, minVals"
   ]
  },
  {
   "cell_type": "code",
   "execution_count": 46,
   "metadata": {},
   "outputs": [],
   "source": [
    "normMat, ranges, minVals = autoNorm(datingDataMat)"
   ]
  },
  {
   "cell_type": "code",
   "execution_count": 47,
   "metadata": {},
   "outputs": [
    {
     "data": {
      "text/plain": [
       "array([[0.44832535, 0.39805139, 0.56233353],\n",
       "       [0.15873259, 0.34195467, 0.98724416],\n",
       "       [0.28542943, 0.06892523, 0.47449629],\n",
       "       ...,\n",
       "       [0.29115949, 0.50910294, 0.51079493],\n",
       "       [0.52711097, 0.43665451, 0.4290048 ],\n",
       "       [0.47940793, 0.3768091 , 0.78571804]])"
      ]
     },
     "execution_count": 47,
     "metadata": {},
     "output_type": "execute_result"
    },
    {
     "data": {
      "text/plain": [
       "array([9.1273000e+04, 2.0919349e+01, 1.6943610e+00])"
      ]
     },
     "execution_count": 47,
     "metadata": {},
     "output_type": "execute_result"
    },
    {
     "data": {
      "text/plain": [
       "array([0.      , 0.      , 0.001156])"
      ]
     },
     "execution_count": 47,
     "metadata": {},
     "output_type": "execute_result"
    }
   ],
   "source": [
    "normMat\n",
    "ranges\n",
    "minVals"
   ]
  },
  {
   "cell_type": "markdown",
   "metadata": {},
   "source": [
    "### 2.2.4   Test: testing the classifier as a whole program"
   ]
  },
  {
   "cell_type": "markdown",
   "metadata": {},
   "source": [
    "***List 2.4*   Classifier testing code for dating site: `datingClassTest()`**"
   ]
  },
  {
   "cell_type": "code",
   "execution_count": 52,
   "metadata": {},
   "outputs": [],
   "source": [
    "def datingClassTest():\n",
    "    hoRatio = 0.10\n",
    "    datingDataMat, datingLabels = file2matrix('/Users/duoduo/Desktop/Data/Machine Learning/Machine Learning in Action/MLA_SourceCode/Ch02/datingTestSet2.txt')\n",
    "    normMat, ranges, minVals = autoNorm(datingDataMat)\n",
    "    m = normMat.shape[0]\n",
    "    numTestVecs = int(m * hoRatio)\n",
    "    errorCount = 0.0\n",
    "    for i in range(numTestVecs):\n",
    "        classifierResult = classify0(normMat[i,:], normMat[numTestVecs:m,:], datingLabels[numTestVecs:m], 3)\n",
    "        print(\"the classifier came back with: %d, the real answer is: %d\" % (classifierResult, datingLabels[i]))\n",
    "        if (classifierResult != datingLabels[i]): errorCount += 1.0\n",
    "    print(\"the total error rate is: %f\" % (errorCount / float(numTestVecs)))"
   ]
  },
  {
   "cell_type": "code",
   "execution_count": 54,
   "metadata": {},
   "outputs": [
    {
     "name": "stdout",
     "output_type": "stream",
     "text": [
      "the classifier came back with: 3, the real answer is: 3\n",
      "the classifier came back with: 2, the real answer is: 2\n",
      "the classifier came back with: 1, the real answer is: 1\n",
      "the classifier came back with: 1, the real answer is: 1\n",
      "the classifier came back with: 1, the real answer is: 1\n",
      "the classifier came back with: 1, the real answer is: 1\n",
      "the classifier came back with: 3, the real answer is: 3\n",
      "the classifier came back with: 3, the real answer is: 3\n",
      "the classifier came back with: 1, the real answer is: 1\n",
      "the classifier came back with: 3, the real answer is: 3\n",
      "the classifier came back with: 1, the real answer is: 1\n",
      "the classifier came back with: 1, the real answer is: 1\n",
      "the classifier came back with: 2, the real answer is: 2\n",
      "the classifier came back with: 1, the real answer is: 1\n",
      "the classifier came back with: 1, the real answer is: 1\n",
      "the classifier came back with: 1, the real answer is: 1\n",
      "the classifier came back with: 1, the real answer is: 1\n",
      "the classifier came back with: 1, the real answer is: 1\n",
      "the classifier came back with: 2, the real answer is: 2\n",
      "the classifier came back with: 3, the real answer is: 3\n",
      "the classifier came back with: 2, the real answer is: 2\n",
      "the classifier came back with: 1, the real answer is: 1\n",
      "the classifier came back with: 3, the real answer is: 2\n",
      "the classifier came back with: 3, the real answer is: 3\n",
      "the classifier came back with: 2, the real answer is: 2\n",
      "the classifier came back with: 3, the real answer is: 3\n",
      "the classifier came back with: 2, the real answer is: 2\n",
      "the classifier came back with: 3, the real answer is: 3\n",
      "the classifier came back with: 2, the real answer is: 2\n",
      "the classifier came back with: 1, the real answer is: 1\n",
      "the classifier came back with: 3, the real answer is: 3\n",
      "the classifier came back with: 1, the real answer is: 1\n",
      "the classifier came back with: 3, the real answer is: 3\n",
      "the classifier came back with: 1, the real answer is: 1\n",
      "the classifier came back with: 2, the real answer is: 2\n",
      "the classifier came back with: 1, the real answer is: 1\n",
      "the classifier came back with: 1, the real answer is: 1\n",
      "the classifier came back with: 2, the real answer is: 2\n",
      "the classifier came back with: 3, the real answer is: 3\n",
      "the classifier came back with: 3, the real answer is: 3\n",
      "the classifier came back with: 1, the real answer is: 1\n",
      "the classifier came back with: 2, the real answer is: 2\n",
      "the classifier came back with: 3, the real answer is: 3\n",
      "the classifier came back with: 3, the real answer is: 3\n",
      "the classifier came back with: 3, the real answer is: 3\n",
      "the classifier came back with: 1, the real answer is: 1\n",
      "the classifier came back with: 1, the real answer is: 1\n",
      "the classifier came back with: 1, the real answer is: 1\n",
      "the classifier came back with: 1, the real answer is: 1\n",
      "the classifier came back with: 2, the real answer is: 2\n",
      "the classifier came back with: 2, the real answer is: 2\n",
      "the classifier came back with: 1, the real answer is: 1\n",
      "the classifier came back with: 3, the real answer is: 3\n",
      "the classifier came back with: 2, the real answer is: 2\n",
      "the classifier came back with: 2, the real answer is: 2\n",
      "the classifier came back with: 2, the real answer is: 2\n",
      "the classifier came back with: 2, the real answer is: 2\n",
      "the classifier came back with: 3, the real answer is: 3\n",
      "the classifier came back with: 1, the real answer is: 1\n",
      "the classifier came back with: 2, the real answer is: 2\n",
      "the classifier came back with: 1, the real answer is: 1\n",
      "the classifier came back with: 2, the real answer is: 2\n",
      "the classifier came back with: 2, the real answer is: 2\n",
      "the classifier came back with: 2, the real answer is: 2\n",
      "the classifier came back with: 2, the real answer is: 2\n",
      "the classifier came back with: 2, the real answer is: 2\n",
      "the classifier came back with: 3, the real answer is: 3\n",
      "the classifier came back with: 2, the real answer is: 2\n",
      "the classifier came back with: 3, the real answer is: 3\n",
      "the classifier came back with: 1, the real answer is: 1\n",
      "the classifier came back with: 2, the real answer is: 2\n",
      "the classifier came back with: 3, the real answer is: 3\n",
      "the classifier came back with: 2, the real answer is: 2\n",
      "the classifier came back with: 2, the real answer is: 2\n",
      "the classifier came back with: 3, the real answer is: 1\n",
      "the classifier came back with: 3, the real answer is: 3\n",
      "the classifier came back with: 1, the real answer is: 1\n",
      "the classifier came back with: 1, the real answer is: 1\n",
      "the classifier came back with: 3, the real answer is: 3\n",
      "the classifier came back with: 3, the real answer is: 3\n",
      "the classifier came back with: 1, the real answer is: 1\n",
      "the classifier came back with: 2, the real answer is: 2\n",
      "the classifier came back with: 3, the real answer is: 3\n",
      "the classifier came back with: 3, the real answer is: 1\n",
      "the classifier came back with: 3, the real answer is: 3\n",
      "the classifier came back with: 1, the real answer is: 1\n",
      "the classifier came back with: 2, the real answer is: 2\n",
      "the classifier came back with: 2, the real answer is: 2\n",
      "the classifier came back with: 1, the real answer is: 1\n",
      "the classifier came back with: 1, the real answer is: 1\n",
      "the classifier came back with: 3, the real answer is: 3\n",
      "the classifier came back with: 2, the real answer is: 3\n",
      "the classifier came back with: 1, the real answer is: 1\n",
      "the classifier came back with: 2, the real answer is: 2\n",
      "the classifier came back with: 1, the real answer is: 1\n",
      "the classifier came back with: 3, the real answer is: 3\n",
      "the classifier came back with: 3, the real answer is: 3\n",
      "the classifier came back with: 2, the real answer is: 2\n",
      "the classifier came back with: 1, the real answer is: 1\n",
      "the classifier came back with: 3, the real answer is: 1\n",
      "the total error rate is: 0.050000\n"
     ]
    }
   ],
   "source": [
    "datingClassTest()"
   ]
  },
  {
   "cell_type": "markdown",
   "metadata": {},
   "source": [
    "### 2.2.5   Use: putting together a useful system"
   ]
  },
  {
   "cell_type": "markdown",
   "metadata": {},
   "source": [
    "***List 2.5*   Dating site predictor function: `classifyPerson()`**"
   ]
  },
  {
   "cell_type": "code",
   "execution_count": 57,
   "metadata": {},
   "outputs": [],
   "source": [
    "def classifyPerson():\n",
    "    resultList = ['not at all', 'in small doses', 'in large doses']\n",
    "    percentTats = float(input(\"percentage of time spent playing computer games?\"))   # Mind that raw_input() has been converted into input() in Python3\n",
    "    ffMiles = float(input(\"frequent flier miles earned per year?\"))\n",
    "    iceCream = float(input(\"liters of ice cream consumed per year?\"))\n",
    "    datingDataMat, datingLabels = file2matrix('/Users/duoduo/Desktop/Data/Machine Learning/Machine Learning in Action/MLA_SourceCode/Ch02/datingTestSet2.txt')\n",
    "    normMat, ranges, minVals = autoNorm(datingDataMat)\n",
    "    inArr = array([ffMiles, percentTats, iceCream])\n",
    "    classifierResult = classify0((inArr - minVals) / ranges, normMat, datingLabels, 3)\n",
    "    print(\"You will probably like this person: \", resultList[classifierResult - 1])"
   ]
  },
  {
   "cell_type": "code",
   "execution_count": 58,
   "metadata": {},
   "outputs": [
    {
     "name": "stdout",
     "output_type": "stream",
     "text": [
      "percentage of time spent playing computer games?10\n",
      "frequent flier miles earned per year?10000\n",
      "liters of ice cream consumed per year?0.5\n",
      "You will probably like this person:  in small doses\n"
     ]
    }
   ],
   "source": [
    "classifyPerson()"
   ]
  },
  {
   "cell_type": "markdown",
   "metadata": {},
   "source": [
    "## 2.3   Example: a handwriting recognition system"
   ]
  },
  {
   "cell_type": "markdown",
   "metadata": {},
   "source": [
    "### 2.3.1   Prepare: converting images into test vectors"
   ]
  },
  {
   "cell_type": "code",
   "execution_count": 61,
   "metadata": {},
   "outputs": [],
   "source": [
    "def img2vector(filename):\n",
    "    returnVect = zeros((1, 1024))\n",
    "    fr = open(filename)\n",
    "    for i in range(32):\n",
    "        lineStr = fr.readline()\n",
    "        for j in range(32):\n",
    "            returnVect[0,32*i+j] = int(lineStr[j])\n",
    "    return returnVect"
   ]
  },
  {
   "cell_type": "code",
   "execution_count": 62,
   "metadata": {},
   "outputs": [
    {
     "data": {
      "text/plain": [
       "array([0., 0., 0., 0., 0., 0., 0., 0., 0., 0., 0., 0., 0., 0., 1., 1., 1.,\n",
       "       1., 0., 0., 0., 0., 0., 0., 0., 0., 0., 0., 0., 0., 0.])"
      ]
     },
     "execution_count": 62,
     "metadata": {},
     "output_type": "execute_result"
    },
    {
     "data": {
      "text/plain": [
       "array([0., 0., 0., 0., 0., 0., 0., 0., 0., 0., 0., 0., 1., 1., 1., 1., 1.,\n",
       "       1., 1., 0., 0., 0., 0., 0., 0., 0., 0., 0., 0., 0., 0.])"
      ]
     },
     "execution_count": 62,
     "metadata": {},
     "output_type": "execute_result"
    }
   ],
   "source": [
    "testVector = img2vector('/Users/duoduo/Desktop/Data/Machine Learning/Machine Learning in Action/MLA_SourceCode/Ch02/digits/testDigits/0_13.txt')\n",
    "testVector[0,0:31]\n",
    "testVector[0,32:63]"
   ]
  },
  {
   "cell_type": "markdown",
   "metadata": {},
   "source": [
    "### 2.3.2   Test: kNN on handwriting digits"
   ]
  },
  {
   "cell_type": "markdown",
   "metadata": {},
   "source": [
    "***Listing 2.6*   Handwriting digits testing code: `handwritingClassTest()`**"
   ]
  },
  {
   "cell_type": "code",
   "execution_count": 63,
   "metadata": {},
   "outputs": [],
   "source": [
    "from os import listdir"
   ]
  },
  {
   "cell_type": "markdown",
   "metadata": {},
   "source": [
    "Import `listdir` so as to see the namesof files in a given directory."
   ]
  },
  {
   "cell_type": "code",
   "execution_count": 66,
   "metadata": {},
   "outputs": [],
   "source": [
    "def handwritingClassTest():\n",
    "    hwLabels = []\n",
    "    trainingFileList = listdir('/Users/duoduo/Desktop/Data/Machine Learning/Machine Learning in Action/MLA_SourceCode/Ch02/digits/trainingDigits/')\n",
    "    # Get contents of directory\n",
    "    m = len(trainingFileList)\n",
    "    trainingMat = zeros((m, 1024))\n",
    "    for i in range(m):\n",
    "        fileNameStr = trainingFileList[i]\n",
    "        fileStr = fileNameStr.split('.')[0]\n",
    "        classNumStr = int(fileStr.split('_')[0])   # Process class num from filename\n",
    "        hwLabels.append(classNumStr)\n",
    "        trainingMat[i,:] = img2vector('/Users/duoduo/Desktop/Data/Machine Learning/Machine Learning in Action/MLA_SourceCode/Ch02/digits/trainingDigits/%s' \n",
    "                                     % fileNameStr)\n",
    "    testFileList = listdir('/Users/duoduo/Desktop/Data/Machine Learning/Machine Learning in Action/MLA_SourceCode/Ch02/digits/testDigits/')\n",
    "    errorCount = 0.0\n",
    "    mTest = len(testFileList)\n",
    "    for i in range(mTest):\n",
    "        fileNameStr = testFileList[i]\n",
    "        fileStr = fileNameStr.split('.')[0]\n",
    "        classNumStr = int(fileStr.split('_')[0])\n",
    "        vectorUnderTest = img2vector('/Users/duoduo/Desktop/Data/Machine Learning/Machine Learning in Action/MLA_SourceCode/Ch02/digits/testDigits/%s' \n",
    "                                    % fileNameStr)\n",
    "        classifierResult = classify0(vectorUnderTest, trainingMat, hwLabels, 3)\n",
    "        print(\"the classifier came back with: %d, the real answer is: %d\" % (classifierResult, classNumStr))\n",
    "        if (classifierResult != classNumStr): errorCount += 1.0\n",
    "    print(\"\\nthe total number of errors is: %d\" % errorCount)\n",
    "    print(\"\\nthe total error rate is: %f\" % (errorCount / float(mTest)))"
   ]
  },
  {
   "cell_type": "code",
   "execution_count": 67,
   "metadata": {},
   "outputs": [
    {
     "name": "stdout",
     "output_type": "stream",
     "text": [
      "the classifier came back with: 4, the real answer is: 4\n",
      "the classifier came back with: 4, the real answer is: 4\n",
      "the classifier came back with: 3, the real answer is: 3\n",
      "the classifier came back with: 9, the real answer is: 9\n",
      "the classifier came back with: 0, the real answer is: 0\n",
      "the classifier came back with: 0, the real answer is: 0\n",
      "the classifier came back with: 9, the real answer is: 9\n",
      "the classifier came back with: 7, the real answer is: 7\n",
      "the classifier came back with: 7, the real answer is: 7\n",
      "the classifier came back with: 0, the real answer is: 0\n",
      "the classifier came back with: 3, the real answer is: 3\n",
      "the classifier came back with: 2, the real answer is: 2\n",
      "the classifier came back with: 2, the real answer is: 2\n",
      "the classifier came back with: 5, the real answer is: 5\n",
      "the classifier came back with: 5, the real answer is: 5\n",
      "the classifier came back with: 5, the real answer is: 5\n",
      "the classifier came back with: 2, the real answer is: 2\n",
      "the classifier came back with: 6, the real answer is: 6\n",
      "the classifier came back with: 6, the real answer is: 6\n",
      "the classifier came back with: 9, the real answer is: 9\n",
      "the classifier came back with: 8, the real answer is: 8\n",
      "the classifier came back with: 1, the real answer is: 8\n",
      "the classifier came back with: 1, the real answer is: 1\n",
      "the classifier came back with: 8, the real answer is: 8\n",
      "the classifier came back with: 1, the real answer is: 1\n",
      "the classifier came back with: 3, the real answer is: 8\n",
      "the classifier came back with: 9, the real answer is: 9\n",
      "the classifier came back with: 6, the real answer is: 6\n",
      "the classifier came back with: 6, the real answer is: 6\n",
      "the classifier came back with: 5, the real answer is: 5\n",
      "the classifier came back with: 2, the real answer is: 2\n",
      "the classifier came back with: 5, the real answer is: 5\n",
      "the classifier came back with: 5, the real answer is: 5\n",
      "the classifier came back with: 2, the real answer is: 2\n",
      "the classifier came back with: 2, the real answer is: 2\n",
      "the classifier came back with: 9, the real answer is: 9\n",
      "the classifier came back with: 3, the real answer is: 3\n",
      "the classifier came back with: 0, the real answer is: 0\n",
      "the classifier came back with: 7, the real answer is: 7\n",
      "the classifier came back with: 7, the real answer is: 7\n",
      "the classifier came back with: 0, the real answer is: 0\n",
      "the classifier came back with: 9, the real answer is: 9\n",
      "the classifier came back with: 9, the real answer is: 9\n",
      "the classifier came back with: 0, the real answer is: 0\n",
      "the classifier came back with: 3, the real answer is: 3\n",
      "the classifier came back with: 4, the real answer is: 4\n",
      "the classifier came back with: 4, the real answer is: 4\n",
      "the classifier came back with: 4, the real answer is: 4\n",
      "the classifier came back with: 3, the real answer is: 3\n",
      "the classifier came back with: 4, the real answer is: 4\n",
      "the classifier came back with: 3, the real answer is: 3\n",
      "the classifier came back with: 1, the real answer is: 1\n",
      "the classifier came back with: 9, the real answer is: 9\n",
      "the classifier came back with: 0, the real answer is: 0\n",
      "the classifier came back with: 0, the real answer is: 0\n",
      "the classifier came back with: 7, the real answer is: 7\n",
      "the classifier came back with: 9, the real answer is: 9\n",
      "the classifier came back with: 7, the real answer is: 7\n",
      "the classifier came back with: 0, the real answer is: 0\n",
      "the classifier came back with: 7, the real answer is: 7\n",
      "the classifier came back with: 9, the real answer is: 9\n",
      "the classifier came back with: 0, the real answer is: 0\n",
      "the classifier came back with: 2, the real answer is: 2\n",
      "the classifier came back with: 5, the real answer is: 5\n",
      "the classifier came back with: 2, the real answer is: 2\n",
      "the classifier came back with: 5, the real answer is: 5\n",
      "the classifier came back with: 5, the real answer is: 5\n",
      "the classifier came back with: 2, the real answer is: 2\n",
      "the classifier came back with: 2, the real answer is: 2\n",
      "the classifier came back with: 6, the real answer is: 6\n",
      "the classifier came back with: 6, the real answer is: 6\n",
      "the classifier came back with: 1, the real answer is: 1\n",
      "the classifier came back with: 1, the real answer is: 1\n",
      "the classifier came back with: 8, the real answer is: 8\n",
      "the classifier came back with: 6, the real answer is: 6\n",
      "the classifier came back with: 9, the real answer is: 9\n",
      "the classifier came back with: 8, the real answer is: 8\n",
      "the classifier came back with: 8, the real answer is: 8\n",
      "the classifier came back with: 9, the real answer is: 9\n",
      "the classifier came back with: 1, the real answer is: 1\n",
      "the classifier came back with: 6, the real answer is: 6\n",
      "the classifier came back with: 8, the real answer is: 8\n",
      "the classifier came back with: 6, the real answer is: 6\n",
      "the classifier came back with: 1, the real answer is: 1\n",
      "the classifier came back with: 6, the real answer is: 6\n",
      "the classifier came back with: 2, the real answer is: 2\n",
      "the classifier came back with: 5, the real answer is: 5\n",
      "the classifier came back with: 2, the real answer is: 2\n",
      "the classifier came back with: 5, the real answer is: 5\n",
      "the classifier came back with: 2, the real answer is: 2\n",
      "the classifier came back with: 2, the real answer is: 2\n",
      "the classifier came back with: 5, the real answer is: 5\n",
      "the classifier came back with: 9, the real answer is: 9\n",
      "the classifier came back with: 7, the real answer is: 7\n",
      "the classifier came back with: 7, the real answer is: 7\n",
      "the classifier came back with: 0, the real answer is: 0\n",
      "the classifier came back with: 0, the real answer is: 0\n",
      "the classifier came back with: 9, the real answer is: 9\n",
      "the classifier came back with: 7, the real answer is: 7\n",
      "the classifier came back with: 7, the real answer is: 9\n",
      "the classifier came back with: 0, the real answer is: 0\n",
      "the classifier came back with: 1, the real answer is: 1\n",
      "the classifier came back with: 3, the real answer is: 3\n",
      "the classifier came back with: 4, the real answer is: 4\n",
      "the classifier came back with: 4, the real answer is: 4\n",
      "the classifier came back with: 3, the real answer is: 3\n",
      "the classifier came back with: 9, the real answer is: 3\n",
      "the classifier came back with: 4, the real answer is: 4\n",
      "the classifier came back with: 4, the real answer is: 4\n",
      "the classifier came back with: 4, the real answer is: 4\n",
      "the classifier came back with: 3, the real answer is: 3\n",
      "the classifier came back with: 7, the real answer is: 7\n",
      "the classifier came back with: 9, the real answer is: 9\n",
      "the classifier came back with: 7, the real answer is: 7\n",
      "the classifier came back with: 0, the real answer is: 0\n",
      "the classifier came back with: 0, the real answer is: 0\n",
      "the classifier came back with: 7, the real answer is: 7\n",
      "the classifier came back with: 9, the real answer is: 9\n",
      "the classifier came back with: 9, the real answer is: 9\n",
      "the classifier came back with: 0, the real answer is: 0\n",
      "the classifier came back with: 0, the real answer is: 0\n",
      "the classifier came back with: 5, the real answer is: 5\n",
      "the classifier came back with: 2, the real answer is: 2\n",
      "the classifier came back with: 5, the real answer is: 5\n",
      "the classifier came back with: 2, the real answer is: 2\n",
      "the classifier came back with: 2, the real answer is: 2\n",
      "the classifier came back with: 5, the real answer is: 5\n",
      "the classifier came back with: 5, the real answer is: 5\n",
      "the classifier came back with: 2, the real answer is: 2\n",
      "the classifier came back with: 8, the real answer is: 8\n",
      "the classifier came back with: 1, the real answer is: 1\n",
      "the classifier came back with: 9, the real answer is: 9\n",
      "the classifier came back with: 8, the real answer is: 8\n",
      "the classifier came back with: 6, the real answer is: 6\n",
      "the classifier came back with: 1, the real answer is: 1\n",
      "the classifier came back with: 8, the real answer is: 8\n",
      "the classifier came back with: 6, the real answer is: 6\n",
      "the classifier came back with: 6, the real answer is: 6\n",
      "the classifier came back with: 8, the real answer is: 8\n",
      "the classifier came back with: 6, the real answer is: 6\n",
      "the classifier came back with: 1, the real answer is: 1\n",
      "the classifier came back with: 8, the real answer is: 8\n",
      "the classifier came back with: 9, the real answer is: 9\n",
      "the classifier came back with: 8, the real answer is: 8\n",
      "the classifier came back with: 1, the real answer is: 1\n",
      "the classifier came back with: 2, the real answer is: 2\n",
      "the classifier came back with: 5, the real answer is: 5\n",
      "the classifier came back with: 2, the real answer is: 2\n",
      "the classifier came back with: 5, the real answer is: 5\n",
      "the classifier came back with: 2, the real answer is: 2\n",
      "the classifier came back with: 5, the real answer is: 5\n",
      "the classifier came back with: 5, the real answer is: 5\n",
      "the classifier came back with: 2, the real answer is: 2\n"
     ]
    },
    {
     "name": "stdout",
     "output_type": "stream",
     "text": [
      "the classifier came back with: 0, the real answer is: 0\n",
      "the classifier came back with: 9, the real answer is: 9\n",
      "the classifier came back with: 0, the real answer is: 0\n",
      "the classifier came back with: 0, the real answer is: 0\n",
      "the classifier came back with: 9, the real answer is: 9\n",
      "the classifier came back with: 7, the real answer is: 7\n",
      "the classifier came back with: 7, the real answer is: 7\n",
      "the classifier came back with: 0, the real answer is: 0\n",
      "the classifier came back with: 9, the real answer is: 9\n",
      "the classifier came back with: 7, the real answer is: 7\n",
      "the classifier came back with: 4, the real answer is: 4\n",
      "the classifier came back with: 3, the real answer is: 3\n",
      "the classifier came back with: 4, the real answer is: 4\n",
      "the classifier came back with: 3, the real answer is: 3\n",
      "the classifier came back with: 4, the real answer is: 4\n",
      "the classifier came back with: 3, the real answer is: 3\n",
      "the classifier came back with: 4, the real answer is: 4\n",
      "the classifier came back with: 4, the real answer is: 4\n",
      "the classifier came back with: 7, the real answer is: 7\n",
      "the classifier came back with: 7, the real answer is: 7\n",
      "the classifier came back with: 4, the real answer is: 4\n",
      "the classifier came back with: 0, the real answer is: 0\n",
      "the classifier came back with: 9, the real answer is: 9\n",
      "the classifier came back with: 9, the real answer is: 9\n",
      "the classifier came back with: 0, the real answer is: 0\n",
      "the classifier came back with: 7, the real answer is: 7\n",
      "the classifier came back with: 0, the real answer is: 0\n",
      "the classifier came back with: 5, the real answer is: 5\n",
      "the classifier came back with: 5, the real answer is: 5\n",
      "the classifier came back with: 2, the real answer is: 2\n",
      "the classifier came back with: 2, the real answer is: 2\n",
      "the classifier came back with: 5, the real answer is: 5\n",
      "the classifier came back with: 2, the real answer is: 2\n",
      "the classifier came back with: 2, the real answer is: 2\n",
      "the classifier came back with: 9, the real answer is: 9\n",
      "the classifier came back with: 8, the real answer is: 8\n",
      "the classifier came back with: 1, the real answer is: 1\n",
      "the classifier came back with: 8, the real answer is: 8\n",
      "the classifier came back with: 6, the real answer is: 6\n",
      "the classifier came back with: 6, the real answer is: 6\n",
      "the classifier came back with: 7, the real answer is: 7\n",
      "the classifier came back with: 7, the real answer is: 7\n",
      "the classifier came back with: 6, the real answer is: 6\n",
      "the classifier came back with: 6, the real answer is: 6\n",
      "the classifier came back with: 1, the real answer is: 1\n",
      "the classifier came back with: 8, the real answer is: 8\n",
      "the classifier came back with: 8, the real answer is: 8\n",
      "the classifier came back with: 9, the real answer is: 9\n",
      "the classifier came back with: 2, the real answer is: 2\n",
      "the classifier came back with: 5, the real answer is: 5\n",
      "the classifier came back with: 2, the real answer is: 2\n",
      "the classifier came back with: 2, the real answer is: 2\n",
      "the classifier came back with: 2, the real answer is: 2\n",
      "the classifier came back with: 5, the real answer is: 5\n",
      "the classifier came back with: 5, the real answer is: 5\n",
      "the classifier came back with: 7, the real answer is: 7\n",
      "the classifier came back with: 0, the real answer is: 0\n",
      "the classifier came back with: 9, the real answer is: 9\n",
      "the classifier came back with: 0, the real answer is: 0\n",
      "the classifier came back with: 0, the real answer is: 0\n",
      "the classifier came back with: 9, the real answer is: 9\n",
      "the classifier came back with: 7, the real answer is: 7\n",
      "the classifier came back with: 4, the real answer is: 4\n",
      "the classifier came back with: 7, the real answer is: 7\n",
      "the classifier came back with: 4, the real answer is: 4\n",
      "the classifier came back with: 4, the real answer is: 4\n",
      "the classifier came back with: 3, the real answer is: 3\n",
      "the classifier came back with: 4, the real answer is: 4\n",
      "the classifier came back with: 4, the real answer is: 4\n",
      "the classifier came back with: 3, the real answer is: 3\n",
      "the classifier came back with: 3, the real answer is: 3\n",
      "the classifier came back with: 4, the real answer is: 4\n",
      "the classifier came back with: 8, the real answer is: 8\n",
      "the classifier came back with: 3, the real answer is: 3\n",
      "the classifier came back with: 4, the real answer is: 4\n",
      "the classifier came back with: 4, the real answer is: 4\n",
      "the classifier came back with: 0, the real answer is: 0\n",
      "the classifier came back with: 7, the real answer is: 7\n",
      "the classifier came back with: 9, the real answer is: 9\n",
      "the classifier came back with: 0, the real answer is: 0\n",
      "the classifier came back with: 9, the real answer is: 9\n",
      "the classifier came back with: 7, the real answer is: 7\n",
      "the classifier came back with: 0, the real answer is: 0\n",
      "the classifier came back with: 2, the real answer is: 2\n",
      "the classifier came back with: 2, the real answer is: 2\n",
      "the classifier came back with: 5, the real answer is: 5\n",
      "the classifier came back with: 5, the real answer is: 5\n",
      "the classifier came back with: 6, the real answer is: 6\n",
      "the classifier came back with: 1, the real answer is: 1\n",
      "the classifier came back with: 8, the real answer is: 8\n",
      "the classifier came back with: 6, the real answer is: 6\n",
      "the classifier came back with: 8, the real answer is: 8\n",
      "the classifier came back with: 1, the real answer is: 1\n",
      "the classifier came back with: 1, the real answer is: 1\n",
      "the classifier came back with: 8, the real answer is: 8\n",
      "the classifier came back with: 6, the real answer is: 6\n",
      "the classifier came back with: 8, the real answer is: 8\n",
      "the classifier came back with: 0, the real answer is: 0\n",
      "the classifier came back with: 0, the real answer is: 0\n",
      "the classifier came back with: 8, the real answer is: 8\n",
      "the classifier came back with: 6, the real answer is: 6\n",
      "the classifier came back with: 1, the real answer is: 1\n",
      "the classifier came back with: 6, the real answer is: 6\n",
      "the classifier came back with: 8, the real answer is: 8\n",
      "the classifier came back with: 8, the real answer is: 8\n",
      "the classifier came back with: 1, the real answer is: 1\n",
      "the classifier came back with: 6, the real answer is: 6\n",
      "the classifier came back with: 1, the real answer is: 8\n",
      "the classifier came back with: 6, the real answer is: 6\n",
      "the classifier came back with: 1, the real answer is: 1\n",
      "the classifier came back with: 5, the real answer is: 5\n",
      "the classifier came back with: 2, the real answer is: 2\n",
      "the classifier came back with: 5, the real answer is: 5\n",
      "the classifier came back with: 2, the real answer is: 2\n",
      "the classifier came back with: 7, the real answer is: 7\n",
      "the classifier came back with: 0, the real answer is: 0\n",
      "the classifier came back with: 9, the real answer is: 9\n",
      "the classifier came back with: 0, the real answer is: 0\n",
      "the classifier came back with: 0, the real answer is: 0\n",
      "the classifier came back with: 1, the real answer is: 9\n",
      "the classifier came back with: 7, the real answer is: 7\n",
      "the classifier came back with: 4, the real answer is: 4\n",
      "the classifier came back with: 4, the real answer is: 4\n",
      "the classifier came back with: 3, the real answer is: 3\n",
      "the classifier came back with: 8, the real answer is: 8\n",
      "the classifier came back with: 3, the real answer is: 3\n",
      "the classifier came back with: 4, the real answer is: 4\n",
      "the classifier came back with: 4, the real answer is: 4\n",
      "the classifier came back with: 3, the real answer is: 3\n",
      "the classifier came back with: 4, the real answer is: 4\n",
      "the classifier came back with: 4, the real answer is: 4\n",
      "the classifier came back with: 4, the real answer is: 4\n",
      "the classifier came back with: 3, the real answer is: 3\n",
      "the classifier came back with: 8, the real answer is: 8\n",
      "the classifier came back with: 3, the real answer is: 3\n",
      "the classifier came back with: 4, the real answer is: 4\n",
      "the classifier came back with: 4, the real answer is: 4\n",
      "the classifier came back with: 0, the real answer is: 0\n",
      "the classifier came back with: 9, the real answer is: 9\n",
      "the classifier came back with: 0, the real answer is: 0\n",
      "the classifier came back with: 7, the real answer is: 7\n",
      "the classifier came back with: 2, the real answer is: 2\n",
      "the classifier came back with: 2, the real answer is: 2\n",
      "the classifier came back with: 5, the real answer is: 5\n",
      "the classifier came back with: 2, the real answer is: 2\n",
      "the classifier came back with: 6, the real answer is: 6\n",
      "the classifier came back with: 6, the real answer is: 6\n",
      "the classifier came back with: 8, the real answer is: 8\n"
     ]
    },
    {
     "name": "stdout",
     "output_type": "stream",
     "text": [
      "the classifier came back with: 1, the real answer is: 1\n",
      "the classifier came back with: 1, the real answer is: 1\n",
      "the classifier came back with: 8, the real answer is: 8\n",
      "the classifier came back with: 6, the real answer is: 6\n",
      "the classifier came back with: 8, the real answer is: 8\n",
      "the classifier came back with: 8, the real answer is: 8\n",
      "the classifier came back with: 6, the real answer is: 6\n",
      "the classifier came back with: 1, the real answer is: 1\n",
      "the classifier came back with: 8, the real answer is: 8\n",
      "the classifier came back with: 8, the real answer is: 8\n",
      "the classifier came back with: 1, the real answer is: 1\n",
      "the classifier came back with: 6, the real answer is: 6\n",
      "the classifier came back with: 6, the real answer is: 6\n",
      "the classifier came back with: 2, the real answer is: 2\n",
      "the classifier came back with: 5, the real answer is: 5\n",
      "the classifier came back with: 2, the real answer is: 2\n",
      "the classifier came back with: 2, the real answer is: 2\n",
      "the classifier came back with: 7, the real answer is: 7\n",
      "the classifier came back with: 9, the real answer is: 9\n",
      "the classifier came back with: 0, the real answer is: 0\n",
      "the classifier came back with: 0, the real answer is: 0\n",
      "the classifier came back with: 4, the real answer is: 4\n",
      "the classifier came back with: 4, the real answer is: 4\n",
      "the classifier came back with: 3, the real answer is: 3\n",
      "the classifier came back with: 8, the real answer is: 8\n",
      "the classifier came back with: 3, the real answer is: 3\n",
      "the classifier came back with: 4, the real answer is: 4\n",
      "the classifier came back with: 4, the real answer is: 4\n",
      "the classifier came back with: 3, the real answer is: 3\n",
      "the classifier came back with: 8, the real answer is: 8\n",
      "the classifier came back with: 3, the real answer is: 3\n",
      "the classifier came back with: 4, the real answer is: 4\n",
      "the classifier came back with: 4, the real answer is: 4\n",
      "the classifier came back with: 6, the real answer is: 6\n",
      "the classifier came back with: 4, the real answer is: 4\n",
      "the classifier came back with: 4, the real answer is: 4\n",
      "the classifier came back with: 7, the real answer is: 7\n",
      "the classifier came back with: 0, the real answer is: 0\n",
      "the classifier came back with: 0, the real answer is: 0\n",
      "the classifier came back with: 9, the real answer is: 9\n",
      "the classifier came back with: 5, the real answer is: 5\n",
      "the classifier came back with: 2, the real answer is: 2\n",
      "the classifier came back with: 2, the real answer is: 2\n",
      "the classifier came back with: 1, the real answer is: 1\n",
      "the classifier came back with: 8, the real answer is: 8\n",
      "the classifier came back with: 8, the real answer is: 8\n",
      "the classifier came back with: 1, the real answer is: 1\n",
      "the classifier came back with: 6, the real answer is: 6\n",
      "the classifier came back with: 6, the real answer is: 6\n",
      "the classifier came back with: 8, the real answer is: 8\n",
      "the classifier came back with: 8, the real answer is: 8\n",
      "the classifier came back with: 1, the real answer is: 1\n",
      "the classifier came back with: 6, the real answer is: 6\n",
      "the classifier came back with: 1, the real answer is: 1\n",
      "the classifier came back with: 6, the real answer is: 6\n",
      "the classifier came back with: 8, the real answer is: 8\n",
      "the classifier came back with: 6, the real answer is: 6\n",
      "the classifier came back with: 6, the real answer is: 6\n",
      "the classifier came back with: 8, the real answer is: 8\n",
      "the classifier came back with: 1, the real answer is: 1\n",
      "the classifier came back with: 1, the real answer is: 1\n",
      "the classifier came back with: 8, the real answer is: 8\n",
      "the classifier came back with: 2, the real answer is: 2\n",
      "the classifier came back with: 2, the real answer is: 2\n",
      "the classifier came back with: 5, the real answer is: 5\n",
      "the classifier came back with: 0, the real answer is: 0\n",
      "the classifier came back with: 9, the real answer is: 9\n",
      "the classifier came back with: 0, the real answer is: 0\n",
      "the classifier came back with: 7, the real answer is: 7\n",
      "the classifier came back with: 4, the real answer is: 4\n",
      "the classifier came back with: 4, the real answer is: 4\n",
      "the classifier came back with: 6, the real answer is: 6\n",
      "the classifier came back with: 4, the real answer is: 4\n",
      "the classifier came back with: 4, the real answer is: 4\n",
      "the classifier came back with: 3, the real answer is: 3\n",
      "the classifier came back with: 8, the real answer is: 8\n",
      "the classifier came back with: 3, the real answer is: 3\n",
      "the classifier came back with: 3, the real answer is: 3\n",
      "the classifier came back with: 8, the real answer is: 8\n",
      "the classifier came back with: 3, the real answer is: 3\n",
      "the classifier came back with: 4, the real answer is: 4\n",
      "the classifier came back with: 4, the real answer is: 4\n",
      "the classifier came back with: 3, the real answer is: 3\n",
      "the classifier came back with: 4, the real answer is: 4\n",
      "the classifier came back with: 4, the real answer is: 4\n",
      "the classifier came back with: 4, the real answer is: 4\n",
      "the classifier came back with: 7, the real answer is: 7\n",
      "the classifier came back with: 9, the real answer is: 9\n",
      "the classifier came back with: 9, the real answer is: 9\n",
      "the classifier came back with: 0, the real answer is: 0\n",
      "the classifier came back with: 0, the real answer is: 0\n",
      "the classifier came back with: 7, the real answer is: 7\n",
      "the classifier came back with: 4, the real answer is: 4\n",
      "the classifier came back with: 5, the real answer is: 5\n",
      "the classifier came back with: 2, the real answer is: 2\n",
      "the classifier came back with: 2, the real answer is: 2\n",
      "the classifier came back with: 5, the real answer is: 5\n",
      "the classifier came back with: 2, the real answer is: 2\n",
      "the classifier came back with: 1, the real answer is: 1\n",
      "the classifier came back with: 8, the real answer is: 8\n",
      "the classifier came back with: 6, the real answer is: 6\n",
      "the classifier came back with: 8, the real answer is: 8\n",
      "the classifier came back with: 1, the real answer is: 1\n",
      "the classifier came back with: 8, the real answer is: 8\n",
      "the classifier came back with: 6, the real answer is: 6\n",
      "the classifier came back with: 6, the real answer is: 6\n",
      "the classifier came back with: 1, the real answer is: 1\n",
      "the classifier came back with: 8, the real answer is: 8\n",
      "the classifier came back with: 6, the real answer is: 6\n",
      "the classifier came back with: 6, the real answer is: 6\n",
      "the classifier came back with: 8, the real answer is: 8\n",
      "the classifier came back with: 6, the real answer is: 6\n",
      "the classifier came back with: 1, the real answer is: 1\n",
      "the classifier came back with: 6, the real answer is: 6\n",
      "the classifier came back with: 8, the real answer is: 8\n",
      "the classifier came back with: 8, the real answer is: 8\n",
      "the classifier came back with: 1, the real answer is: 1\n",
      "the classifier came back with: 1, the real answer is: 1\n",
      "the classifier came back with: 6, the real answer is: 6\n",
      "the classifier came back with: 1, the real answer is: 8\n",
      "the classifier came back with: 2, the real answer is: 2\n",
      "the classifier came back with: 2, the real answer is: 2\n",
      "the classifier came back with: 5, the real answer is: 5\n",
      "the classifier came back with: 5, the real answer is: 5\n",
      "the classifier came back with: 2, the real answer is: 2\n",
      "the classifier came back with: 4, the real answer is: 4\n",
      "the classifier came back with: 0, the real answer is: 0\n",
      "the classifier came back with: 7, the real answer is: 7\n",
      "the classifier came back with: 9, the real answer is: 9\n",
      "the classifier came back with: 0, the real answer is: 0\n",
      "the classifier came back with: 9, the real answer is: 9\n",
      "the classifier came back with: 7, the real answer is: 7\n",
      "the classifier came back with: 4, the real answer is: 4\n",
      "the classifier came back with: 4, the real answer is: 4\n",
      "the classifier came back with: 4, the real answer is: 4\n",
      "the classifier came back with: 4, the real answer is: 4\n",
      "the classifier came back with: 3, the real answer is: 3\n",
      "the classifier came back with: 3, the real answer is: 3\n",
      "the classifier came back with: 8, the real answer is: 8\n",
      "the classifier came back with: 4, the real answer is: 4\n",
      "the classifier came back with: 3, the real answer is: 3\n",
      "the classifier came back with: 8, the real answer is: 8\n",
      "the classifier came back with: 4, the real answer is: 4\n",
      "the classifier came back with: 4, the real answer is: 4\n",
      "the classifier came back with: 3, the real answer is: 3\n",
      "the classifier came back with: 3, the real answer is: 3\n",
      "the classifier came back with: 4, the real answer is: 4\n",
      "the classifier came back with: 3, the real answer is: 3\n"
     ]
    },
    {
     "name": "stdout",
     "output_type": "stream",
     "text": [
      "the classifier came back with: 6, the real answer is: 6\n",
      "the classifier came back with: 3, the real answer is: 3\n",
      "the classifier came back with: 0, the real answer is: 0\n",
      "the classifier came back with: 7, the real answer is: 7\n",
      "the classifier came back with: 9, the real answer is: 9\n",
      "the classifier came back with: 9, the real answer is: 9\n",
      "the classifier came back with: 7, the real answer is: 7\n",
      "the classifier came back with: 7, the real answer is: 7\n",
      "the classifier came back with: 0, the real answer is: 0\n",
      "the classifier came back with: 4, the real answer is: 4\n",
      "the classifier came back with: 2, the real answer is: 2\n",
      "the classifier came back with: 5, the real answer is: 5\n",
      "the classifier came back with: 2, the real answer is: 2\n",
      "the classifier came back with: 5, the real answer is: 5\n",
      "the classifier came back with: 2, the real answer is: 2\n",
      "the classifier came back with: 6, the real answer is: 6\n",
      "the classifier came back with: 1, the real answer is: 1\n",
      "the classifier came back with: 8, the real answer is: 8\n",
      "the classifier came back with: 6, the real answer is: 6\n",
      "the classifier came back with: 8, the real answer is: 8\n",
      "the classifier came back with: 1, the real answer is: 1\n",
      "the classifier came back with: 1, the real answer is: 1\n",
      "the classifier came back with: 8, the real answer is: 8\n",
      "the classifier came back with: 6, the real answer is: 6\n",
      "the classifier came back with: 0, the real answer is: 0\n",
      "the classifier came back with: 1, the real answer is: 1\n",
      "the classifier came back with: 1, the real answer is: 1\n",
      "the classifier came back with: 1, the real answer is: 1\n",
      "the classifier came back with: 7, the real answer is: 1\n",
      "the classifier came back with: 0, the real answer is: 0\n",
      "the classifier came back with: 1, the real answer is: 1\n",
      "the classifier came back with: 6, the real answer is: 6\n",
      "the classifier came back with: 8, the real answer is: 8\n",
      "the classifier came back with: 8, the real answer is: 8\n",
      "the classifier came back with: 1, the real answer is: 1\n",
      "the classifier came back with: 6, the real answer is: 6\n",
      "the classifier came back with: 8, the real answer is: 8\n",
      "the classifier came back with: 6, the real answer is: 6\n",
      "the classifier came back with: 1, the real answer is: 1\n",
      "the classifier came back with: 2, the real answer is: 2\n",
      "the classifier came back with: 5, the real answer is: 5\n",
      "the classifier came back with: 5, the real answer is: 5\n",
      "the classifier came back with: 2, the real answer is: 2\n",
      "the classifier came back with: 2, the real answer is: 2\n",
      "the classifier came back with: 4, the real answer is: 4\n",
      "the classifier came back with: 7, the real answer is: 7\n",
      "the classifier came back with: 0, the real answer is: 0\n",
      "the classifier came back with: 7, the real answer is: 7\n",
      "the classifier came back with: 9, the real answer is: 9\n",
      "the classifier came back with: 0, the real answer is: 0\n",
      "the classifier came back with: 9, the real answer is: 9\n",
      "the classifier came back with: 7, the real answer is: 7\n",
      "the classifier came back with: 3, the real answer is: 3\n",
      "the classifier came back with: 6, the real answer is: 6\n",
      "the classifier came back with: 3, the real answer is: 3\n",
      "the classifier came back with: 3, the real answer is: 3\n",
      "the classifier came back with: 4, the real answer is: 4\n",
      "the classifier came back with: 4, the real answer is: 4\n",
      "the classifier came back with: 3, the real answer is: 3\n",
      "the classifier came back with: 8, the real answer is: 8\n",
      "the classifier came back with: 4, the real answer is: 4\n",
      "the classifier came back with: 4, the real answer is: 4\n",
      "the classifier came back with: 4, the real answer is: 4\n",
      "the classifier came back with: 3, the real answer is: 3\n",
      "the classifier came back with: 3, the real answer is: 3\n",
      "the classifier came back with: 6, the real answer is: 6\n",
      "the classifier came back with: 4, the real answer is: 4\n",
      "the classifier came back with: 3, the real answer is: 3\n",
      "the classifier came back with: 9, the real answer is: 9\n",
      "the classifier came back with: 9, the real answer is: 9\n",
      "the classifier came back with: 0, the real answer is: 0\n",
      "the classifier came back with: 7, the real answer is: 7\n",
      "the classifier came back with: 7, the real answer is: 7\n",
      "the classifier came back with: 4, the real answer is: 4\n",
      "the classifier came back with: 2, the real answer is: 2\n",
      "the classifier came back with: 5, the real answer is: 5\n",
      "the classifier came back with: 5, the real answer is: 5\n",
      "the classifier came back with: 2, the real answer is: 2\n",
      "the classifier came back with: 6, the real answer is: 6\n",
      "the classifier came back with: 6, the real answer is: 6\n",
      "the classifier came back with: 8, the real answer is: 8\n",
      "the classifier came back with: 1, the real answer is: 1\n",
      "the classifier came back with: 1, the real answer is: 1\n",
      "the classifier came back with: 8, the real answer is: 8\n",
      "the classifier came back with: 8, the real answer is: 8\n",
      "the classifier came back with: 0, the real answer is: 0\n",
      "the classifier came back with: 1, the real answer is: 1\n",
      "the classifier came back with: 1, the real answer is: 1\n",
      "the classifier came back with: 1, the real answer is: 1\n",
      "the classifier came back with: 1, the real answer is: 1\n",
      "the classifier came back with: 0, the real answer is: 0\n",
      "the classifier came back with: 8, the real answer is: 8\n",
      "the classifier came back with: 1, the real answer is: 1\n",
      "the classifier came back with: 8, the real answer is: 8\n",
      "the classifier came back with: 8, the real answer is: 8\n",
      "the classifier came back with: 1, the real answer is: 1\n",
      "the classifier came back with: 6, the real answer is: 6\n",
      "the classifier came back with: 6, the real answer is: 6\n",
      "the classifier came back with: 2, the real answer is: 2\n",
      "the classifier came back with: 5, the real answer is: 5\n",
      "the classifier came back with: 5, the real answer is: 5\n",
      "the classifier came back with: 2, the real answer is: 2\n",
      "the classifier came back with: 4, the real answer is: 4\n",
      "the classifier came back with: 7, the real answer is: 7\n",
      "the classifier came back with: 7, the real answer is: 7\n",
      "the classifier came back with: 9, the real answer is: 9\n",
      "the classifier came back with: 0, the real answer is: 0\n",
      "the classifier came back with: 9, the real answer is: 9\n",
      "the classifier came back with: 4, the real answer is: 4\n",
      "the classifier came back with: 3, the real answer is: 3\n",
      "the classifier came back with: 6, the real answer is: 6\n",
      "the classifier came back with: 3, the real answer is: 3\n",
      "the classifier came back with: 3, the real answer is: 3\n",
      "the classifier came back with: 4, the real answer is: 4\n",
      "the classifier came back with: 4, the real answer is: 4\n",
      "the classifier came back with: 3, the real answer is: 3\n",
      "the classifier came back with: 3, the real answer is: 3\n",
      "the classifier came back with: 4, the real answer is: 4\n",
      "the classifier came back with: 4, the real answer is: 4\n",
      "the classifier came back with: 4, the real answer is: 4\n",
      "the classifier came back with: 3, the real answer is: 3\n",
      "the classifier came back with: 6, the real answer is: 6\n",
      "the classifier came back with: 7, the real answer is: 7\n",
      "the classifier came back with: 7, the real answer is: 7\n",
      "the classifier came back with: 9, the real answer is: 9\n",
      "the classifier came back with: 0, the real answer is: 0\n",
      "the classifier came back with: 9, the real answer is: 9\n",
      "the classifier came back with: 4, the real answer is: 4\n",
      "the classifier came back with: 5, the real answer is: 5\n",
      "the classifier came back with: 5, the real answer is: 5\n",
      "the classifier came back with: 2, the real answer is: 2\n",
      "the classifier came back with: 2, the real answer is: 2\n",
      "the classifier came back with: 1, the real answer is: 1\n",
      "the classifier came back with: 8, the real answer is: 8\n",
      "the classifier came back with: 8, the real answer is: 8\n",
      "the classifier came back with: 1, the real answer is: 1\n",
      "the classifier came back with: 6, the real answer is: 6\n",
      "the classifier came back with: 6, the real answer is: 6\n",
      "the classifier came back with: 1, the real answer is: 1\n",
      "the classifier came back with: 1, the real answer is: 1\n",
      "the classifier came back with: 0, the real answer is: 0\n",
      "the classifier came back with: 0, the real answer is: 0\n",
      "the classifier came back with: 1, the real answer is: 1\n",
      "the classifier came back with: 1, the real answer is: 1\n",
      "the classifier came back with: 6, the real answer is: 6\n",
      "the classifier came back with: 6, the real answer is: 6\n",
      "the classifier came back with: 8, the real answer is: 8\n",
      "the classifier came back with: 1, the real answer is: 1\n",
      "the classifier came back with: 1, the real answer is: 1\n"
     ]
    },
    {
     "name": "stdout",
     "output_type": "stream",
     "text": [
      "the classifier came back with: 8, the real answer is: 8\n",
      "the classifier came back with: 2, the real answer is: 2\n",
      "the classifier came back with: 2, the real answer is: 2\n",
      "the classifier came back with: 5, the real answer is: 5\n",
      "the classifier came back with: 5, the real answer is: 5\n",
      "the classifier came back with: 4, the real answer is: 4\n",
      "the classifier came back with: 0, the real answer is: 0\n",
      "the classifier came back with: 9, the real answer is: 9\n",
      "the classifier came back with: 9, the real answer is: 9\n",
      "the classifier came back with: 7, the real answer is: 7\n",
      "the classifier came back with: 7, the real answer is: 7\n",
      "the classifier came back with: 6, the real answer is: 6\n",
      "the classifier came back with: 4, the real answer is: 4\n",
      "the classifier came back with: 4, the real answer is: 4\n",
      "the classifier came back with: 4, the real answer is: 4\n",
      "the classifier came back with: 3, the real answer is: 3\n",
      "the classifier came back with: 3, the real answer is: 3\n",
      "the classifier came back with: 3, the real answer is: 3\n",
      "the classifier came back with: 3, the real answer is: 3\n",
      "the classifier came back with: 4, the real answer is: 4\n",
      "the classifier came back with: 4, the real answer is: 4\n",
      "the classifier came back with: 3, the real answer is: 3\n",
      "the classifier came back with: 4, the real answer is: 4\n",
      "the classifier came back with: 6, the real answer is: 6\n",
      "the classifier came back with: 7, the real answer is: 7\n",
      "the classifier came back with: 0, the real answer is: 0\n",
      "the classifier came back with: 7, the real answer is: 7\n",
      "the classifier came back with: 9, the real answer is: 9\n",
      "the classifier came back with: 9, the real answer is: 9\n",
      "the classifier came back with: 0, the real answer is: 0\n",
      "the classifier came back with: 9, the real answer is: 9\n",
      "the classifier came back with: 4, the real answer is: 4\n",
      "the classifier came back with: 5, the real answer is: 5\n",
      "the classifier came back with: 5, the real answer is: 5\n",
      "the classifier came back with: 2, the real answer is: 2\n",
      "the classifier came back with: 2, the real answer is: 2\n",
      "the classifier came back with: 5, the real answer is: 5\n",
      "the classifier came back with: 2, the real answer is: 2\n",
      "the classifier came back with: 1, the real answer is: 1\n",
      "the classifier came back with: 8, the real answer is: 8\n",
      "the classifier came back with: 6, the real answer is: 6\n",
      "the classifier came back with: 8, the real answer is: 8\n",
      "the classifier came back with: 1, the real answer is: 1\n",
      "the classifier came back with: 8, the real answer is: 8\n",
      "the classifier came back with: 6, the real answer is: 6\n",
      "the classifier came back with: 6, the real answer is: 6\n",
      "the classifier came back with: 1, the real answer is: 1\n",
      "the classifier came back with: 1, the real answer is: 1\n",
      "the classifier came back with: 1, the real answer is: 1\n",
      "the classifier came back with: 0, the real answer is: 0\n",
      "the classifier came back with: 0, the real answer is: 0\n",
      "the classifier came back with: 1, the real answer is: 1\n",
      "the classifier came back with: 6, the real answer is: 6\n",
      "the classifier came back with: 1, the real answer is: 1\n",
      "the classifier came back with: 6, the real answer is: 6\n",
      "the classifier came back with: 8, the real answer is: 8\n",
      "the classifier came back with: 8, the real answer is: 8\n",
      "the classifier came back with: 1, the real answer is: 1\n",
      "the classifier came back with: 1, the real answer is: 1\n",
      "the classifier came back with: 6, the real answer is: 6\n",
      "the classifier came back with: 8, the real answer is: 8\n",
      "the classifier came back with: 2, the real answer is: 2\n",
      "the classifier came back with: 2, the real answer is: 2\n",
      "the classifier came back with: 5, the real answer is: 5\n",
      "the classifier came back with: 5, the real answer is: 5\n",
      "the classifier came back with: 2, the real answer is: 2\n",
      "the classifier came back with: 5, the real answer is: 5\n",
      "the classifier came back with: 4, the real answer is: 4\n",
      "the classifier came back with: 9, the real answer is: 9\n",
      "the classifier came back with: 9, the real answer is: 9\n",
      "the classifier came back with: 0, the real answer is: 0\n",
      "the classifier came back with: 9, the real answer is: 9\n",
      "the classifier came back with: 7, the real answer is: 7\n",
      "the classifier came back with: 7, the real answer is: 7\n",
      "the classifier came back with: 0, the real answer is: 0\n",
      "the classifier came back with: 6, the real answer is: 6\n",
      "the classifier came back with: 4, the real answer is: 4\n",
      "the classifier came back with: 4, the real answer is: 4\n",
      "the classifier came back with: 3, the real answer is: 3\n",
      "the classifier came back with: 3, the real answer is: 3\n",
      "the classifier came back with: 4, the real answer is: 4\n",
      "the classifier came back with: 3, the real answer is: 3\n",
      "the classifier came back with: 4, the real answer is: 4\n",
      "the classifier came back with: 5, the real answer is: 5\n",
      "the classifier came back with: 3, the real answer is: 3\n",
      "the classifier came back with: 3, the real answer is: 3\n",
      "the classifier came back with: 1, the real answer is: 1\n",
      "the classifier came back with: 9, the real answer is: 9\n",
      "the classifier came back with: 4, the real answer is: 4\n",
      "the classifier came back with: 0, the real answer is: 0\n",
      "the classifier came back with: 0, the real answer is: 0\n",
      "the classifier came back with: 4, the real answer is: 4\n",
      "the classifier came back with: 9, the real answer is: 9\n",
      "the classifier came back with: 7, the real answer is: 7\n",
      "the classifier came back with: 7, the real answer is: 7\n",
      "the classifier came back with: 3, the real answer is: 3\n",
      "the classifier came back with: 9, the real answer is: 9\n",
      "the classifier came back with: 7, the real answer is: 7\n",
      "the classifier came back with: 7, the real answer is: 7\n",
      "the classifier came back with: 2, the real answer is: 2\n",
      "the classifier came back with: 2, the real answer is: 2\n",
      "the classifier came back with: 6, the real answer is: 5\n",
      "the classifier came back with: 5, the real answer is: 5\n",
      "the classifier came back with: 5, the real answer is: 5\n",
      "the classifier came back with: 2, the real answer is: 2\n",
      "the classifier came back with: 5, the real answer is: 5\n",
      "the classifier came back with: 5, the real answer is: 5\n",
      "the classifier came back with: 6, the real answer is: 6\n",
      "the classifier came back with: 1, the real answer is: 1\n",
      "the classifier came back with: 8, the real answer is: 8\n",
      "the classifier came back with: 1, the real answer is: 1\n",
      "the classifier came back with: 7, the real answer is: 7\n",
      "the classifier came back with: 7, the real answer is: 7\n",
      "the classifier came back with: 8, the real answer is: 8\n",
      "the classifier came back with: 1, the real answer is: 1\n",
      "the classifier came back with: 1, the real answer is: 1\n",
      "the classifier came back with: 6, the real answer is: 6\n",
      "the classifier came back with: 5, the real answer is: 5\n",
      "the classifier came back with: 2, the real answer is: 2\n",
      "the classifier came back with: 5, the real answer is: 5\n",
      "the classifier came back with: 5, the real answer is: 5\n",
      "the classifier came back with: 5, the real answer is: 5\n",
      "the classifier came back with: 3, the real answer is: 5\n",
      "the classifier came back with: 2, the real answer is: 2\n",
      "the classifier came back with: 2, the real answer is: 2\n",
      "the classifier came back with: 7, the real answer is: 7\n",
      "the classifier came back with: 7, the real answer is: 7\n",
      "the classifier came back with: 3, the real answer is: 3\n",
      "the classifier came back with: 9, the real answer is: 9\n",
      "the classifier came back with: 7, the real answer is: 7\n",
      "the classifier came back with: 7, the real answer is: 7\n",
      "the classifier came back with: 4, the real answer is: 4\n",
      "the classifier came back with: 0, the real answer is: 0\n",
      "the classifier came back with: 9, the real answer is: 9\n",
      "the classifier came back with: 9, the real answer is: 9\n",
      "the classifier came back with: 0, the real answer is: 0\n",
      "the classifier came back with: 4, the real answer is: 4\n",
      "the classifier came back with: 1, the real answer is: 1\n",
      "the classifier came back with: 3, the real answer is: 3\n",
      "the classifier came back with: 3, the real answer is: 3\n",
      "the classifier came back with: 5, the real answer is: 5\n",
      "the classifier came back with: 4, the real answer is: 4\n",
      "the classifier came back with: 5, the real answer is: 5\n",
      "the classifier came back with: 4, the real answer is: 4\n",
      "the classifier came back with: 3, the real answer is: 3\n",
      "the classifier came back with: 3, the real answer is: 3\n",
      "the classifier came back with: 4, the real answer is: 4\n",
      "the classifier came back with: 1, the real answer is: 1\n",
      "the classifier came back with: 9, the real answer is: 9\n"
     ]
    },
    {
     "name": "stdout",
     "output_type": "stream",
     "text": [
      "the classifier came back with: 0, the real answer is: 0\n",
      "the classifier came back with: 4, the real answer is: 4\n",
      "the classifier came back with: 4, the real answer is: 4\n",
      "the classifier came back with: 0, the real answer is: 0\n",
      "the classifier came back with: 7, the real answer is: 7\n",
      "the classifier came back with: 9, the real answer is: 9\n",
      "the classifier came back with: 7, the real answer is: 7\n",
      "the classifier came back with: 0, the real answer is: 0\n",
      "the classifier came back with: 7, the real answer is: 7\n",
      "the classifier came back with: 9, the real answer is: 9\n",
      "the classifier came back with: 9, the real answer is: 9\n",
      "the classifier came back with: 3, the real answer is: 3\n",
      "the classifier came back with: 7, the real answer is: 7\n",
      "the classifier came back with: 7, the real answer is: 7\n",
      "the classifier came back with: 2, the real answer is: 2\n",
      "the classifier came back with: 5, the real answer is: 5\n",
      "the classifier came back with: 2, the real answer is: 2\n",
      "the classifier came back with: 5, the real answer is: 5\n",
      "the classifier came back with: 5, the real answer is: 5\n",
      "the classifier came back with: 2, the real answer is: 2\n",
      "the classifier came back with: 5, the real answer is: 5\n",
      "the classifier came back with: 5, the real answer is: 5\n",
      "the classifier came back with: 5, the real answer is: 5\n",
      "the classifier came back with: 8, the real answer is: 8\n",
      "the classifier came back with: 9, the real answer is: 9\n",
      "the classifier came back with: 6, the real answer is: 6\n",
      "the classifier came back with: 1, the real answer is: 1\n",
      "the classifier came back with: 1, the real answer is: 1\n",
      "the classifier came back with: 8, the real answer is: 8\n",
      "the classifier came back with: 6, the real answer is: 6\n",
      "the classifier came back with: 1, the real answer is: 1\n",
      "the classifier came back with: 7, the real answer is: 7\n",
      "the classifier came back with: 7, the real answer is: 7\n",
      "the classifier came back with: 1, the real answer is: 1\n",
      "the classifier came back with: 1, the real answer is: 1\n",
      "the classifier came back with: 6, the real answer is: 6\n",
      "the classifier came back with: 8, the real answer is: 8\n",
      "the classifier came back with: 6, the real answer is: 6\n",
      "the classifier came back with: 1, the real answer is: 1\n",
      "the classifier came back with: 9, the real answer is: 9\n",
      "the classifier came back with: 8, the real answer is: 8\n",
      "the classifier came back with: 5, the real answer is: 5\n",
      "the classifier came back with: 5, the real answer is: 5\n",
      "the classifier came back with: 5, the real answer is: 5\n",
      "the classifier came back with: 5, the real answer is: 5\n",
      "the classifier came back with: 2, the real answer is: 2\n",
      "the classifier came back with: 5, the real answer is: 5\n",
      "the classifier came back with: 2, the real answer is: 2\n",
      "the classifier came back with: 2, the real answer is: 2\n",
      "the classifier came back with: 5, the real answer is: 5\n",
      "the classifier came back with: 7, the real answer is: 7\n",
      "the classifier came back with: 7, the real answer is: 7\n",
      "the classifier came back with: 9, the real answer is: 9\n",
      "the classifier came back with: 3, the real answer is: 3\n",
      "the classifier came back with: 9, the real answer is: 9\n",
      "the classifier came back with: 7, the real answer is: 7\n",
      "the classifier came back with: 7, the real answer is: 7\n",
      "the classifier came back with: 0, the real answer is: 0\n",
      "the classifier came back with: 0, the real answer is: 0\n",
      "the classifier came back with: 4, the real answer is: 4\n",
      "the classifier came back with: 9, the real answer is: 9\n",
      "the classifier came back with: 7, the real answer is: 7\n",
      "the classifier came back with: 9, the real answer is: 9\n",
      "the classifier came back with: 4, the real answer is: 4\n",
      "the classifier came back with: 0, the real answer is: 0\n",
      "the classifier came back with: 1, the real answer is: 1\n",
      "the classifier came back with: 3, the real answer is: 3\n",
      "the classifier came back with: 4, the real answer is: 4\n",
      "the classifier came back with: 3, the real answer is: 3\n",
      "the classifier came back with: 4, the real answer is: 4\n",
      "the classifier came back with: 5, the real answer is: 5\n",
      "the classifier came back with: 3, the real answer is: 3\n",
      "the classifier came back with: 4, the real answer is: 4\n",
      "the classifier came back with: 3, the real answer is: 3\n",
      "the classifier came back with: 5, the real answer is: 5\n",
      "the classifier came back with: 4, the real answer is: 4\n",
      "the classifier came back with: 3, the real answer is: 3\n",
      "the classifier came back with: 1, the real answer is: 1\n",
      "the classifier came back with: 7, the real answer is: 7\n",
      "the classifier came back with: 9, the real answer is: 9\n",
      "the classifier came back with: 7, the real answer is: 7\n",
      "the classifier came back with: 0, the real answer is: 0\n",
      "the classifier came back with: 0, the real answer is: 0\n",
      "the classifier came back with: 7, the real answer is: 7\n",
      "the classifier came back with: 9, the real answer is: 9\n",
      "the classifier came back with: 9, the real answer is: 9\n",
      "the classifier came back with: 4, the real answer is: 4\n",
      "the classifier came back with: 0, the real answer is: 0\n",
      "the classifier came back with: 7, the real answer is: 7\n",
      "the classifier came back with: 3, the real answer is: 3\n",
      "the classifier came back with: 9, the real answer is: 9\n",
      "the classifier came back with: 5, the real answer is: 5\n",
      "the classifier came back with: 2, the real answer is: 2\n",
      "the classifier came back with: 5, the real answer is: 5\n",
      "the classifier came back with: 2, the real answer is: 2\n",
      "the classifier came back with: 2, the real answer is: 2\n",
      "the classifier came back with: 5, the real answer is: 5\n",
      "the classifier came back with: 5, the real answer is: 5\n",
      "the classifier came back with: 5, the real answer is: 5\n",
      "the classifier came back with: 5, the real answer is: 5\n",
      "the classifier came back with: 6, the real answer is: 8\n",
      "the classifier came back with: 1, the real answer is: 1\n",
      "the classifier came back with: 1, the real answer is: 1\n",
      "the classifier came back with: 6, the real answer is: 6\n",
      "the classifier came back with: 8, the real answer is: 8\n",
      "the classifier came back with: 6, the real answer is: 6\n",
      "the classifier came back with: 7, the real answer is: 7\n",
      "the classifier came back with: 7, the real answer is: 7\n",
      "the classifier came back with: 6, the real answer is: 6\n",
      "the classifier came back with: 8, the real answer is: 8\n",
      "the classifier came back with: 1, the real answer is: 1\n",
      "the classifier came back with: 6, the real answer is: 6\n",
      "the classifier came back with: 8, the real answer is: 8\n",
      "the classifier came back with: 1, the real answer is: 1\n",
      "the classifier came back with: 5, the real answer is: 5\n",
      "the classifier came back with: 5, the real answer is: 5\n",
      "the classifier came back with: 5, the real answer is: 5\n",
      "the classifier came back with: 2, the real answer is: 2\n",
      "the classifier came back with: 5, the real answer is: 5\n",
      "the classifier came back with: 2, the real answer is: 2\n",
      "the classifier came back with: 5, the real answer is: 5\n",
      "the classifier came back with: 5, the real answer is: 5\n",
      "the classifier came back with: 2, the real answer is: 2\n",
      "the classifier came back with: 3, the real answer is: 3\n",
      "the classifier came back with: 9, the real answer is: 9\n",
      "the classifier came back with: 7, the real answer is: 7\n",
      "the classifier came back with: 9, the real answer is: 9\n",
      "the classifier came back with: 0, the real answer is: 0\n",
      "the classifier came back with: 4, the real answer is: 4\n",
      "the classifier came back with: 0, the real answer is: 0\n",
      "the classifier came back with: 9, the real answer is: 9\n",
      "the classifier came back with: 7, the real answer is: 7\n",
      "the classifier came back with: 7, the real answer is: 7\n",
      "the classifier came back with: 0, the real answer is: 0\n",
      "the classifier came back with: 9, the real answer is: 9\n",
      "the classifier came back with: 7, the real answer is: 7\n",
      "the classifier came back with: 1, the real answer is: 1\n",
      "the classifier came back with: 4, the real answer is: 4\n",
      "the classifier came back with: 3, the real answer is: 3\n",
      "the classifier came back with: 5, the real answer is: 5\n",
      "the classifier came back with: 3, the real answer is: 3\n",
      "the classifier came back with: 3, the real answer is: 3\n",
      "the classifier came back with: 4, the real answer is: 4\n",
      "the classifier came back with: 3, the real answer is: 3\n",
      "the classifier came back with: 3, the real answer is: 3\n",
      "the classifier came back with: 4, the real answer is: 4\n",
      "the classifier came back with: 5, the real answer is: 5\n",
      "the classifier came back with: 1, the real answer is: 1\n",
      "the classifier came back with: 7, the real answer is: 7\n",
      "the classifier came back with: 7, the real answer is: 7\n",
      "the classifier came back with: 4, the real answer is: 4\n",
      "the classifier came back with: 0, the real answer is: 0\n",
      "the classifier came back with: 9, the real answer is: 9\n",
      "the classifier came back with: 9, the real answer is: 9\n",
      "the classifier came back with: 0, the real answer is: 0\n",
      "the classifier came back with: 7, the real answer is: 7\n",
      "the classifier came back with: 7, the real answer is: 7\n",
      "the classifier came back with: 9, the real answer is: 9\n",
      "the classifier came back with: 3, the real answer is: 3\n",
      "the classifier came back with: 5, the real answer is: 5\n",
      "the classifier came back with: 5, the real answer is: 5\n",
      "the classifier came back with: 2, the real answer is: 2\n",
      "the classifier came back with: 2, the real answer is: 2\n"
     ]
    },
    {
     "name": "stdout",
     "output_type": "stream",
     "text": [
      "the classifier came back with: 5, the real answer is: 5\n",
      "the classifier came back with: 5, the real answer is: 5\n",
      "the classifier came back with: 5, the real answer is: 5\n",
      "the classifier came back with: 1, the real answer is: 1\n",
      "the classifier came back with: 1, the real answer is: 1\n",
      "the classifier came back with: 8, the real answer is: 8\n",
      "the classifier came back with: 6, the real answer is: 6\n",
      "the classifier came back with: 7, the real answer is: 7\n",
      "the classifier came back with: 7, the real answer is: 7\n",
      "the classifier came back with: 6, the real answer is: 6\n",
      "the classifier came back with: 1, the real answer is: 1\n",
      "the classifier came back with: 8, the real answer is: 8\n",
      "the classifier came back with: 1, the real answer is: 1\n",
      "the classifier came back with: 5, the real answer is: 5\n",
      "the classifier came back with: 5, the real answer is: 5\n",
      "the classifier came back with: 5, the real answer is: 5\n",
      "the classifier came back with: 2, the real answer is: 2\n",
      "the classifier came back with: 2, the real answer is: 2\n",
      "the classifier came back with: 5, the real answer is: 5\n",
      "the classifier came back with: 5, the real answer is: 5\n",
      "the classifier came back with: 9, the real answer is: 9\n",
      "the classifier came back with: 3, the real answer is: 3\n",
      "the classifier came back with: 7, the real answer is: 7\n",
      "the classifier came back with: 7, the real answer is: 7\n",
      "the classifier came back with: 9, the real answer is: 9\n",
      "the classifier came back with: 0, the real answer is: 0\n",
      "the classifier came back with: 0, the real answer is: 0\n",
      "the classifier came back with: 4, the real answer is: 4\n",
      "the classifier came back with: 9, the real answer is: 9\n",
      "the classifier came back with: 7, the real answer is: 7\n",
      "the classifier came back with: 7, the real answer is: 7\n",
      "the classifier came back with: 1, the real answer is: 1\n",
      "the classifier came back with: 5, the real answer is: 5\n",
      "the classifier came back with: 4, the real answer is: 4\n",
      "the classifier came back with: 3, the real answer is: 3\n",
      "the classifier came back with: 3, the real answer is: 3\n",
      "\n",
      "the total number of errors is: 11\n",
      "\n",
      "the total error rate is: 0.011628\n"
     ]
    }
   ],
   "source": [
    "handwritingClassTest()"
   ]
  },
  {
   "cell_type": "code",
   "execution_count": null,
   "metadata": {},
   "outputs": [],
   "source": []
  }
 ],
 "metadata": {
  "kernelspec": {
   "display_name": "Python 3",
   "language": "python",
   "name": "python3"
  },
  "language_info": {
   "codemirror_mode": {
    "name": "ipython",
    "version": 3
   },
   "file_extension": ".py",
   "mimetype": "text/x-python",
   "name": "python",
   "nbconvert_exporter": "python",
   "pygments_lexer": "ipython3",
   "version": "3.7.4"
  }
 },
 "nbformat": 4,
 "nbformat_minor": 4
}
